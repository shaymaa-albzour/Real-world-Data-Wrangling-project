{
 "cells": [
  {
   "cell_type": "markdown",
   "metadata": {
    "id": "GNIwe5N7s0e_"
   },
   "source": [
    "# Real-world Data Wrangling"
   ]
  },
  {
   "cell_type": "markdown",
   "metadata": {},
   "source": [
    "## Table of contents \n",
    "- [Introduction](#intro)\n",
    "- [Gathering data](#Gathering-data)\n",
    "  - [Problem statment](#Problem-Statement)\n",
    "- [Assess data](#Assess-data)\n",
    "- [Cleaning Data](#Cleaning-Data)\n",
    "- [Research Quastions](#research-question)\n",
    "     - [Research Quastion 1: How does the Quantity of the product (Qty), vary across different product sizes (Size) on Amazon?](#q1)\n",
    "     - [Research Quastion 2: How are the number of items in stock distributed across different delivery statuses, and what percentage of the total stock is associated with each status?](#q2)\n",
    "     - [Research Quastion 3: Do B2B customers tend to make larger purchases than non-B2B customers?](#q3)\n",
    " - [Reflection](#Reflection)\n",
    "- [Conclusion](#conclusion)"
   ]
  },
  {
   "cell_type": "code",
   "execution_count": 1,
   "metadata": {},
   "outputs": [],
   "source": [
    "#!python -m pip install kaggle==1.6.12"
   ]
  },
  {
   "cell_type": "code",
   "execution_count": 2,
   "metadata": {
    "scrolled": true
   },
   "outputs": [],
   "source": [
    "#!pip install --target=/workspace ucimlrepo"
   ]
  },
  {
   "cell_type": "markdown",
   "metadata": {},
   "source": [
    "<a id=intro><a/>\n",
    "# Introduction \n",
    "This project aims to analyze sales data from Amazon to understand customer purchasing patterns and identify potential areas for improvement. We will be working with two datasets: one obtained via the Amazon API and another sourced from Kaggle. The goal is to uncover insights into product demand, delivery performance, and customer segmentation."
   ]
  },
  {
   "cell_type": "markdown",
   "metadata": {
    "id": "lDYDkH-Zs7Nn"
   },
   "source": [
    "<a id=Gathering-data><a/>\n",
    "## 1. Gather data\n"
   ]
  },
  {
   "cell_type": "markdown",
   "metadata": {
    "id": "LbN7z7rcuqpO"
   },
   "source": [
    "<a id=Problem-Statement><a/>\n",
    "### **1.1.** Problem Statement\n",
    "The datasets used are an Amazon Sale Report Dataset obtained via API and a Sale Report Dataset sourced from Kaggle. The primary objective is to address data quality and tidiness issues within these datasets, such as missing values, outliers, and multiple variables stored in single columns. By cleaning and preparing the data, we aim to answer key research questions regarding product demand across different sizes, stock distribution across delivery statuses, and purchase behavior differences between B2B and non-B2B customers.  \n",
    "To address these questions,cleaning and preprocessing the data obtained from the Amazon Sale Report Dataset and the Sale Report Dataset from Kaggle."
   ]
  },
  {
   "cell_type": "code",
   "execution_count": 3,
   "metadata": {},
   "outputs": [],
   "source": [
    "import requests\n",
    "import zipfile\n",
    "import pandas as pd\n",
    "import base64\n",
    "import io\n",
    "import numpy as np\n",
    "from scipy import stats\n",
    "import pandas as pd\n",
    "import matplotlib.pyplot as plt\n",
    "import seaborn as sns\n",
    "import os\n",
    "import pickle\n",
    "\n"
   ]
  },
  {
   "cell_type": "markdown",
   "metadata": {
    "id": "8AQfBAdUypMm"
   },
   "source": [
    "### **1.2.** Gather at least two datasets using two different data gathering methods\n"
   ]
  },
  {
   "cell_type": "markdown",
   "metadata": {
    "id": "7e6gS0wL1KTu"
   },
   "source": [
    "#### **Amazon Sale Report Dataset**\n",
    "\n",
    "*Type: CSV File.*  \n",
    "*Method: The data was gathered using the API method from Kaggle.*\n",
    "\n",
    ">I selected the Amazon Sales Report dataset because it provides comprehensive sales data over time, which is crucial for understanding sales patterns, revenue trends, and seasonal fluctuations for products sold on Amazo\n",
    "\n",
    "#### Dataset Key variables:\n",
    "\n",
    "   | Field Name       | Description                              |\n",
    "|------------------|------------------------------------------|\n",
    "| Category         | Type of product. (String)                |\n",
    "| Size             | Size of the product. (String)            |\n",
    "| Date             | Date of the sale. (Date)                 |\n",
    "| Status           | Status of the sale. (String)             |\n",
    "| Fulfilment       | Method of fulfilment. (String)           |\n",
    "| Style            | Style of the product. (String)           |\n",
    "| SKU              | Stock Keeping Unit. (String)             |\n",
    "| ASIN             | Amazon Standard Identification Number. (String) |\n",
    "| Courier Status   | Status of the courier. (String)          |\n",
    "| Qty              | Quantity of the product. (Integer)       |\n",
    "| Amount           | Amount of the sale. (Float)              |\n",
    "| B2B              | Business to business sale. (Boolean)     |\n",
    "| Currency         | The currency used for the sale. (String) |\n"
   ]
  },
  {
   "cell_type": "code",
   "execution_count": 4,
   "metadata": {
    "id": "Su8E0uLuYkHU"
   },
   "outputs": [],
   "source": [
    "# 1st data gathering and loading method"
   ]
  },
  {
   "cell_type": "code",
   "execution_count": 5,
   "metadata": {},
   "outputs": [
    {
     "data": {
      "text/plain": [
       "'https://www.kaggle.com/api/v1/datasets/download/thedevastator/unlock-profits-with-e-commerce-sales-data?datasetVersionNumber=2'"
      ]
     },
     "execution_count": 5,
     "metadata": {},
     "output_type": "execute_result"
    }
   ],
   "source": [
    "# Preparing the URL.\n",
    "base_url = \"https://www.kaggle.com/api/v1\"\n",
    "owner_slug = \"thedevastator\"\n",
    "dataset_slug = \"unlock-profits-with-e-commerce-sales-data\"\n",
    "dataset_version = \"2\"\n",
    "\n",
    "url = f\"{base_url}/datasets/download/{owner_slug}/{dataset_slug}?datasetVersionNumber={dataset_version}\"\n",
    "url"
   ]
  },
  {
   "cell_type": "code",
   "execution_count": 6,
   "metadata": {},
   "outputs": [],
   "source": [
    "# Encoding the credentials .\n",
    "username = \"<shymaaalbzour>\"\n",
    "key = \"<6597001689234fb3870c1672c6907fd2>\"\n",
    "creds = base64.b64encode (bytes(f\"{username}:{key}\", \"ISO-8859-1\")).decode(\"ascii\")\n",
    "headers = {\n",
    "  \"Authorization\": f\"Basic {creds}\"\n",
    "}"
   ]
  },
  {
   "cell_type": "code",
   "execution_count": 7,
   "metadata": {},
   "outputs": [
    {
     "name": "stderr",
     "output_type": "stream",
     "text": [
      "C:\\Users\\user\\AppData\\Local\\Temp\\ipykernel_10552\\1781717086.py:9: DtypeWarning: Columns (23) have mixed types. Specify dtype option on import or set low_memory=False.\n",
      "  df = pd.read_csv(zf.open(file_name))\n"
     ]
    },
    {
     "data": {
      "text/html": [
       "<div>\n",
       "<style scoped>\n",
       "    .dataframe tbody tr th:only-of-type {\n",
       "        vertical-align: middle;\n",
       "    }\n",
       "\n",
       "    .dataframe tbody tr th {\n",
       "        vertical-align: top;\n",
       "    }\n",
       "\n",
       "    .dataframe thead th {\n",
       "        text-align: right;\n",
       "    }\n",
       "</style>\n",
       "<table border=\"1\" class=\"dataframe\">\n",
       "  <thead>\n",
       "    <tr style=\"text-align: right;\">\n",
       "      <th></th>\n",
       "      <th>index</th>\n",
       "      <th>Order ID</th>\n",
       "      <th>Date</th>\n",
       "      <th>Status</th>\n",
       "      <th>Fulfilment</th>\n",
       "      <th>Sales Channel</th>\n",
       "      <th>ship-service-level</th>\n",
       "      <th>Style</th>\n",
       "      <th>SKU</th>\n",
       "      <th>Category</th>\n",
       "      <th>...</th>\n",
       "      <th>currency</th>\n",
       "      <th>Amount</th>\n",
       "      <th>ship-city</th>\n",
       "      <th>ship-state</th>\n",
       "      <th>ship-postal-code</th>\n",
       "      <th>ship-country</th>\n",
       "      <th>promotion-ids</th>\n",
       "      <th>B2B</th>\n",
       "      <th>fulfilled-by</th>\n",
       "      <th>Unnamed: 22</th>\n",
       "    </tr>\n",
       "  </thead>\n",
       "  <tbody>\n",
       "    <tr>\n",
       "      <th>0</th>\n",
       "      <td>0</td>\n",
       "      <td>405-8078784-5731545</td>\n",
       "      <td>04-30-22</td>\n",
       "      <td>Cancelled</td>\n",
       "      <td>Merchant</td>\n",
       "      <td>Amazon.in</td>\n",
       "      <td>Standard</td>\n",
       "      <td>SET389</td>\n",
       "      <td>SET389-KR-NP-S</td>\n",
       "      <td>Set</td>\n",
       "      <td>...</td>\n",
       "      <td>INR</td>\n",
       "      <td>647.62</td>\n",
       "      <td>MUMBAI</td>\n",
       "      <td>MAHARASHTRA</td>\n",
       "      <td>400081.0</td>\n",
       "      <td>IN</td>\n",
       "      <td>NaN</td>\n",
       "      <td>False</td>\n",
       "      <td>Easy Ship</td>\n",
       "      <td>NaN</td>\n",
       "    </tr>\n",
       "    <tr>\n",
       "      <th>1</th>\n",
       "      <td>1</td>\n",
       "      <td>171-9198151-1101146</td>\n",
       "      <td>04-30-22</td>\n",
       "      <td>Shipped - Delivered to Buyer</td>\n",
       "      <td>Merchant</td>\n",
       "      <td>Amazon.in</td>\n",
       "      <td>Standard</td>\n",
       "      <td>JNE3781</td>\n",
       "      <td>JNE3781-KR-XXXL</td>\n",
       "      <td>kurta</td>\n",
       "      <td>...</td>\n",
       "      <td>INR</td>\n",
       "      <td>406.00</td>\n",
       "      <td>BENGALURU</td>\n",
       "      <td>KARNATAKA</td>\n",
       "      <td>560085.0</td>\n",
       "      <td>IN</td>\n",
       "      <td>Amazon PLCC Free-Financing Universal Merchant ...</td>\n",
       "      <td>False</td>\n",
       "      <td>Easy Ship</td>\n",
       "      <td>NaN</td>\n",
       "    </tr>\n",
       "    <tr>\n",
       "      <th>2</th>\n",
       "      <td>2</td>\n",
       "      <td>404-0687676-7273146</td>\n",
       "      <td>04-30-22</td>\n",
       "      <td>Shipped</td>\n",
       "      <td>Amazon</td>\n",
       "      <td>Amazon.in</td>\n",
       "      <td>Expedited</td>\n",
       "      <td>JNE3371</td>\n",
       "      <td>JNE3371-KR-XL</td>\n",
       "      <td>kurta</td>\n",
       "      <td>...</td>\n",
       "      <td>INR</td>\n",
       "      <td>329.00</td>\n",
       "      <td>NAVI MUMBAI</td>\n",
       "      <td>MAHARASHTRA</td>\n",
       "      <td>410210.0</td>\n",
       "      <td>IN</td>\n",
       "      <td>IN Core Free Shipping 2015/04/08 23-48-5-108</td>\n",
       "      <td>True</td>\n",
       "      <td>NaN</td>\n",
       "      <td>NaN</td>\n",
       "    </tr>\n",
       "    <tr>\n",
       "      <th>3</th>\n",
       "      <td>3</td>\n",
       "      <td>403-9615377-8133951</td>\n",
       "      <td>04-30-22</td>\n",
       "      <td>Cancelled</td>\n",
       "      <td>Merchant</td>\n",
       "      <td>Amazon.in</td>\n",
       "      <td>Standard</td>\n",
       "      <td>J0341</td>\n",
       "      <td>J0341-DR-L</td>\n",
       "      <td>Western Dress</td>\n",
       "      <td>...</td>\n",
       "      <td>INR</td>\n",
       "      <td>753.33</td>\n",
       "      <td>PUDUCHERRY</td>\n",
       "      <td>PUDUCHERRY</td>\n",
       "      <td>605008.0</td>\n",
       "      <td>IN</td>\n",
       "      <td>NaN</td>\n",
       "      <td>False</td>\n",
       "      <td>Easy Ship</td>\n",
       "      <td>NaN</td>\n",
       "    </tr>\n",
       "    <tr>\n",
       "      <th>4</th>\n",
       "      <td>4</td>\n",
       "      <td>407-1069790-7240320</td>\n",
       "      <td>04-30-22</td>\n",
       "      <td>Shipped</td>\n",
       "      <td>Amazon</td>\n",
       "      <td>Amazon.in</td>\n",
       "      <td>Expedited</td>\n",
       "      <td>JNE3671</td>\n",
       "      <td>JNE3671-TU-XXXL</td>\n",
       "      <td>Top</td>\n",
       "      <td>...</td>\n",
       "      <td>INR</td>\n",
       "      <td>574.00</td>\n",
       "      <td>CHENNAI</td>\n",
       "      <td>TAMIL NADU</td>\n",
       "      <td>600073.0</td>\n",
       "      <td>IN</td>\n",
       "      <td>NaN</td>\n",
       "      <td>False</td>\n",
       "      <td>NaN</td>\n",
       "      <td>NaN</td>\n",
       "    </tr>\n",
       "    <tr>\n",
       "      <th>...</th>\n",
       "      <td>...</td>\n",
       "      <td>...</td>\n",
       "      <td>...</td>\n",
       "      <td>...</td>\n",
       "      <td>...</td>\n",
       "      <td>...</td>\n",
       "      <td>...</td>\n",
       "      <td>...</td>\n",
       "      <td>...</td>\n",
       "      <td>...</td>\n",
       "      <td>...</td>\n",
       "      <td>...</td>\n",
       "      <td>...</td>\n",
       "      <td>...</td>\n",
       "      <td>...</td>\n",
       "      <td>...</td>\n",
       "      <td>...</td>\n",
       "      <td>...</td>\n",
       "      <td>...</td>\n",
       "      <td>...</td>\n",
       "      <td>...</td>\n",
       "    </tr>\n",
       "    <tr>\n",
       "      <th>128970</th>\n",
       "      <td>128970</td>\n",
       "      <td>406-6001380-7673107</td>\n",
       "      <td>05-31-22</td>\n",
       "      <td>Shipped</td>\n",
       "      <td>Amazon</td>\n",
       "      <td>Amazon.in</td>\n",
       "      <td>Expedited</td>\n",
       "      <td>JNE3697</td>\n",
       "      <td>JNE3697-KR-XL</td>\n",
       "      <td>kurta</td>\n",
       "      <td>...</td>\n",
       "      <td>INR</td>\n",
       "      <td>517.00</td>\n",
       "      <td>HYDERABAD</td>\n",
       "      <td>TELANGANA</td>\n",
       "      <td>500013.0</td>\n",
       "      <td>IN</td>\n",
       "      <td>NaN</td>\n",
       "      <td>False</td>\n",
       "      <td>NaN</td>\n",
       "      <td>False</td>\n",
       "    </tr>\n",
       "    <tr>\n",
       "      <th>128971</th>\n",
       "      <td>128971</td>\n",
       "      <td>402-9551604-7544318</td>\n",
       "      <td>05-31-22</td>\n",
       "      <td>Shipped</td>\n",
       "      <td>Amazon</td>\n",
       "      <td>Amazon.in</td>\n",
       "      <td>Expedited</td>\n",
       "      <td>SET401</td>\n",
       "      <td>SET401-KR-NP-M</td>\n",
       "      <td>Set</td>\n",
       "      <td>...</td>\n",
       "      <td>INR</td>\n",
       "      <td>999.00</td>\n",
       "      <td>GURUGRAM</td>\n",
       "      <td>HARYANA</td>\n",
       "      <td>122004.0</td>\n",
       "      <td>IN</td>\n",
       "      <td>IN Core Free Shipping 2015/04/08 23-48-5-108</td>\n",
       "      <td>False</td>\n",
       "      <td>NaN</td>\n",
       "      <td>False</td>\n",
       "    </tr>\n",
       "    <tr>\n",
       "      <th>128972</th>\n",
       "      <td>128972</td>\n",
       "      <td>407-9547469-3152358</td>\n",
       "      <td>05-31-22</td>\n",
       "      <td>Shipped</td>\n",
       "      <td>Amazon</td>\n",
       "      <td>Amazon.in</td>\n",
       "      <td>Expedited</td>\n",
       "      <td>J0157</td>\n",
       "      <td>J0157-DR-XXL</td>\n",
       "      <td>Western Dress</td>\n",
       "      <td>...</td>\n",
       "      <td>INR</td>\n",
       "      <td>690.00</td>\n",
       "      <td>HYDERABAD</td>\n",
       "      <td>TELANGANA</td>\n",
       "      <td>500049.0</td>\n",
       "      <td>IN</td>\n",
       "      <td>NaN</td>\n",
       "      <td>False</td>\n",
       "      <td>NaN</td>\n",
       "      <td>False</td>\n",
       "    </tr>\n",
       "    <tr>\n",
       "      <th>128973</th>\n",
       "      <td>128973</td>\n",
       "      <td>402-6184140-0545956</td>\n",
       "      <td>05-31-22</td>\n",
       "      <td>Shipped</td>\n",
       "      <td>Amazon</td>\n",
       "      <td>Amazon.in</td>\n",
       "      <td>Expedited</td>\n",
       "      <td>J0012</td>\n",
       "      <td>J0012-SKD-XS</td>\n",
       "      <td>Set</td>\n",
       "      <td>...</td>\n",
       "      <td>INR</td>\n",
       "      <td>1199.00</td>\n",
       "      <td>Halol</td>\n",
       "      <td>Gujarat</td>\n",
       "      <td>389350.0</td>\n",
       "      <td>IN</td>\n",
       "      <td>IN Core Free Shipping 2015/04/08 23-48-5-108</td>\n",
       "      <td>False</td>\n",
       "      <td>NaN</td>\n",
       "      <td>False</td>\n",
       "    </tr>\n",
       "    <tr>\n",
       "      <th>128974</th>\n",
       "      <td>128974</td>\n",
       "      <td>408-7436540-8728312</td>\n",
       "      <td>05-31-22</td>\n",
       "      <td>Shipped</td>\n",
       "      <td>Amazon</td>\n",
       "      <td>Amazon.in</td>\n",
       "      <td>Expedited</td>\n",
       "      <td>J0003</td>\n",
       "      <td>J0003-SET-S</td>\n",
       "      <td>Set</td>\n",
       "      <td>...</td>\n",
       "      <td>INR</td>\n",
       "      <td>696.00</td>\n",
       "      <td>Raipur</td>\n",
       "      <td>CHHATTISGARH</td>\n",
       "      <td>492014.0</td>\n",
       "      <td>IN</td>\n",
       "      <td>IN Core Free Shipping 2015/04/08 23-48-5-108</td>\n",
       "      <td>False</td>\n",
       "      <td>NaN</td>\n",
       "      <td>False</td>\n",
       "    </tr>\n",
       "  </tbody>\n",
       "</table>\n",
       "<p>128975 rows × 24 columns</p>\n",
       "</div>"
      ],
      "text/plain": [
       "         index             Order ID      Date                        Status  \\\n",
       "0            0  405-8078784-5731545  04-30-22                     Cancelled   \n",
       "1            1  171-9198151-1101146  04-30-22  Shipped - Delivered to Buyer   \n",
       "2            2  404-0687676-7273146  04-30-22                       Shipped   \n",
       "3            3  403-9615377-8133951  04-30-22                     Cancelled   \n",
       "4            4  407-1069790-7240320  04-30-22                       Shipped   \n",
       "...        ...                  ...       ...                           ...   \n",
       "128970  128970  406-6001380-7673107  05-31-22                       Shipped   \n",
       "128971  128971  402-9551604-7544318  05-31-22                       Shipped   \n",
       "128972  128972  407-9547469-3152358  05-31-22                       Shipped   \n",
       "128973  128973  402-6184140-0545956  05-31-22                       Shipped   \n",
       "128974  128974  408-7436540-8728312  05-31-22                       Shipped   \n",
       "\n",
       "       Fulfilment Sales Channel  ship-service-level    Style              SKU  \\\n",
       "0        Merchant      Amazon.in           Standard   SET389   SET389-KR-NP-S   \n",
       "1        Merchant      Amazon.in           Standard  JNE3781  JNE3781-KR-XXXL   \n",
       "2          Amazon      Amazon.in          Expedited  JNE3371    JNE3371-KR-XL   \n",
       "3        Merchant      Amazon.in           Standard    J0341       J0341-DR-L   \n",
       "4          Amazon      Amazon.in          Expedited  JNE3671  JNE3671-TU-XXXL   \n",
       "...           ...            ...                ...      ...              ...   \n",
       "128970     Amazon      Amazon.in          Expedited  JNE3697    JNE3697-KR-XL   \n",
       "128971     Amazon      Amazon.in          Expedited   SET401   SET401-KR-NP-M   \n",
       "128972     Amazon      Amazon.in          Expedited    J0157     J0157-DR-XXL   \n",
       "128973     Amazon      Amazon.in          Expedited    J0012     J0012-SKD-XS   \n",
       "128974     Amazon      Amazon.in          Expedited    J0003      J0003-SET-S   \n",
       "\n",
       "             Category  ... currency   Amount    ship-city    ship-state  \\\n",
       "0                 Set  ...      INR   647.62       MUMBAI   MAHARASHTRA   \n",
       "1               kurta  ...      INR   406.00    BENGALURU     KARNATAKA   \n",
       "2               kurta  ...      INR   329.00  NAVI MUMBAI   MAHARASHTRA   \n",
       "3       Western Dress  ...      INR   753.33   PUDUCHERRY    PUDUCHERRY   \n",
       "4                 Top  ...      INR   574.00      CHENNAI    TAMIL NADU   \n",
       "...               ...  ...      ...      ...          ...           ...   \n",
       "128970          kurta  ...      INR   517.00    HYDERABAD     TELANGANA   \n",
       "128971            Set  ...      INR   999.00     GURUGRAM       HARYANA   \n",
       "128972  Western Dress  ...      INR   690.00    HYDERABAD     TELANGANA   \n",
       "128973            Set  ...      INR  1199.00        Halol       Gujarat   \n",
       "128974            Set  ...      INR   696.00       Raipur  CHHATTISGARH   \n",
       "\n",
       "       ship-postal-code  ship-country  \\\n",
       "0              400081.0            IN   \n",
       "1              560085.0            IN   \n",
       "2              410210.0            IN   \n",
       "3              605008.0            IN   \n",
       "4              600073.0            IN   \n",
       "...                 ...           ...   \n",
       "128970         500013.0            IN   \n",
       "128971         122004.0            IN   \n",
       "128972         500049.0            IN   \n",
       "128973         389350.0            IN   \n",
       "128974         492014.0            IN   \n",
       "\n",
       "                                            promotion-ids    B2B  \\\n",
       "0                                                     NaN  False   \n",
       "1       Amazon PLCC Free-Financing Universal Merchant ...  False   \n",
       "2            IN Core Free Shipping 2015/04/08 23-48-5-108   True   \n",
       "3                                                     NaN  False   \n",
       "4                                                     NaN  False   \n",
       "...                                                   ...    ...   \n",
       "128970                                                NaN  False   \n",
       "128971       IN Core Free Shipping 2015/04/08 23-48-5-108  False   \n",
       "128972                                                NaN  False   \n",
       "128973       IN Core Free Shipping 2015/04/08 23-48-5-108  False   \n",
       "128974       IN Core Free Shipping 2015/04/08 23-48-5-108  False   \n",
       "\n",
       "        fulfilled-by Unnamed: 22  \n",
       "0          Easy Ship         NaN  \n",
       "1          Easy Ship         NaN  \n",
       "2                NaN         NaN  \n",
       "3          Easy Ship         NaN  \n",
       "4                NaN         NaN  \n",
       "...              ...         ...  \n",
       "128970           NaN       False  \n",
       "128971           NaN       False  \n",
       "128972           NaN       False  \n",
       "128973           NaN       False  \n",
       "128974           NaN       False  \n",
       "\n",
       "[128975 rows x 24 columns]"
      ]
     },
     "execution_count": 7,
     "metadata": {},
     "output_type": "execute_result"
    }
   ],
   "source": [
    "#Sending a GET request to the URL with the encoded credentials.\n",
    "response = requests.get(url, headers = headers)\n",
    "\n",
    "# Loading the response as a file via io and opening it via zipfile.\n",
    "zf = zipfile.ZipFile(io.BytesIO(response.content))\n",
    "\n",
    "# Reading the CSV from the zip file and converting it to a dataframe.\n",
    "file_name = \"Amazon Sale Report.csv\"\n",
    "df = pd.read_csv(zf.open(file_name))\n",
    "df"
   ]
  },
  {
   "cell_type": "markdown",
   "metadata": {
    "id": "hoUjq1tPzz7P"
   },
   "source": [
    "#### **Sale Report Dataset**\n",
    "*Type: CSV File.*  \n",
    "*Method: The data was gathered manually from Kaggle.*\n",
    "\n",
    "\n",
    "\n",
    ">I selested this dataset because it provides detailed information about e-commerce sales, including product details like SKU, design, stock, category, size, and color. Which is useful for analyzing sales trends, optimizing profitability, managing inventory, and understanding customer preferences.\n",
    "\n",
    "Dataset Key variables:\n",
    "\n",
    "| Column Name | Description                                      | Data Type |\n",
    "|-------------|--------------------------------------------------|-----------|\n",
    "| SKU Code    | Unique identifier for each product              | String    |\n",
    "| Design No.  | Unique identifier for each design               | String    |\n",
    "| Stock       | Number of items in stock                        | Integer   |\n",
    "| Category    | Type of product                                 | String    |\n",
    "| Size        | Size of the product                             | String    |\n",
    "| Color       | Color of the product                            | String    |\n"
   ]
  },
  {
   "cell_type": "code",
   "execution_count": 8,
   "metadata": {
    "id": "6zT0QxRyYmm7"
   },
   "outputs": [],
   "source": [
    "#2nd data gathering and loading method"
   ]
  },
  {
   "cell_type": "code",
   "execution_count": 9,
   "metadata": {},
   "outputs": [
    {
     "data": {
      "text/plain": [
       "<bound method NDFrame.head of       index       SKU Code Design No.  Stock       Category Size Color\n",
       "0         0    AN201-RED-L      AN201    5.0  AN : LEGGINGS    L   Red\n",
       "1         1    AN201-RED-M      AN201    5.0  AN : LEGGINGS    M   Red\n",
       "2         2    AN201-RED-S      AN201    3.0  AN : LEGGINGS    S   Red\n",
       "3         3   AN201-RED-XL      AN201    6.0  AN : LEGGINGS   XL   Red\n",
       "4         4  AN201-RED-XXL      AN201    3.0  AN : LEGGINGS  XXL   Red\n",
       "...     ...            ...        ...    ...            ...  ...   ...\n",
       "9266   9266            NaN        NaN    NaN            NaN  NaN   NaN\n",
       "9267   9267            NaN        NaN    NaN            NaN  NaN   NaN\n",
       "9268   9268            NaN        NaN    NaN            NaN  NaN   NaN\n",
       "9269   9269            NaN        NaN    NaN            NaN  NaN   NaN\n",
       "9270   9270            NaN        NaN    NaN            NaN  NaN   NaN\n",
       "\n",
       "[9271 rows x 7 columns]>"
      ]
     },
     "execution_count": 9,
     "metadata": {},
     "output_type": "execute_result"
    }
   ],
   "source": [
    "df2=pd.read_csv('C:\\\\Users\\\\user\\\\Downloads\\\\Sale Report.csv')\n",
    "df2.head"
   ]
  },
  {
   "cell_type": "markdown",
   "metadata": {},
   "source": [
    "Optional data storing step: You may save your raw dataset files to the local data store before moving to the next step."
   ]
  },
  {
   "cell_type": "code",
   "execution_count": 10,
   "metadata": {},
   "outputs": [],
   "source": [
    "#Optional: store the raw data in your local data store"
   ]
  },
  {
   "cell_type": "markdown",
   "metadata": {
    "id": "QwSWIVmotLgV"
   },
   "source": [
    "<a id=Assess-data></a>\n",
    "## 2. Assess data"
   ]
  },
  {
   "cell_type": "markdown",
   "metadata": {
    "id": "adaK2iPNzVu4"
   },
   "source": [
    "#### <u>Quality Issue 1:Missing Values in Amazon Sale Report Dataset</u>"
   ]
  },
  {
   "cell_type": "code",
   "execution_count": 11,
   "metadata": {
    "id": "SpW59kh-zl8d"
   },
   "outputs": [],
   "source": [
    "#Inspecting the dataframe visually"
   ]
  },
  {
   "cell_type": "code",
   "execution_count": 12,
   "metadata": {},
   "outputs": [
    {
     "data": {
      "text/html": [
       "<div>\n",
       "<style scoped>\n",
       "    .dataframe tbody tr th:only-of-type {\n",
       "        vertical-align: middle;\n",
       "    }\n",
       "\n",
       "    .dataframe tbody tr th {\n",
       "        vertical-align: top;\n",
       "    }\n",
       "\n",
       "    .dataframe thead th {\n",
       "        text-align: right;\n",
       "    }\n",
       "</style>\n",
       "<table border=\"1\" class=\"dataframe\">\n",
       "  <thead>\n",
       "    <tr style=\"text-align: right;\">\n",
       "      <th></th>\n",
       "      <th>index</th>\n",
       "      <th>Order ID</th>\n",
       "      <th>Date</th>\n",
       "      <th>Status</th>\n",
       "      <th>Fulfilment</th>\n",
       "      <th>Sales Channel</th>\n",
       "      <th>ship-service-level</th>\n",
       "      <th>Style</th>\n",
       "      <th>SKU</th>\n",
       "      <th>Category</th>\n",
       "      <th>...</th>\n",
       "      <th>currency</th>\n",
       "      <th>Amount</th>\n",
       "      <th>ship-city</th>\n",
       "      <th>ship-state</th>\n",
       "      <th>ship-postal-code</th>\n",
       "      <th>ship-country</th>\n",
       "      <th>promotion-ids</th>\n",
       "      <th>B2B</th>\n",
       "      <th>fulfilled-by</th>\n",
       "      <th>Unnamed: 22</th>\n",
       "    </tr>\n",
       "  </thead>\n",
       "  <tbody>\n",
       "    <tr>\n",
       "      <th>43908</th>\n",
       "      <td>43908</td>\n",
       "      <td>171-0806419-8528320</td>\n",
       "      <td>04-04-22</td>\n",
       "      <td>Shipped - Delivered to Buyer</td>\n",
       "      <td>Merchant</td>\n",
       "      <td>Amazon.in</td>\n",
       "      <td>Standard</td>\n",
       "      <td>SET393</td>\n",
       "      <td>SET393-KR-NP-XS</td>\n",
       "      <td>Set</td>\n",
       "      <td>...</td>\n",
       "      <td>INR</td>\n",
       "      <td>955.0</td>\n",
       "      <td>NIRMAL</td>\n",
       "      <td>TELANGANA</td>\n",
       "      <td>504106.0</td>\n",
       "      <td>IN</td>\n",
       "      <td>Amazon PLCC Free-Financing Universal Merchant ...</td>\n",
       "      <td>False</td>\n",
       "      <td>Easy Ship</td>\n",
       "      <td>NaN</td>\n",
       "    </tr>\n",
       "  </tbody>\n",
       "</table>\n",
       "<p>1 rows × 24 columns</p>\n",
       "</div>"
      ],
      "text/plain": [
       "       index             Order ID      Date                        Status  \\\n",
       "43908  43908  171-0806419-8528320  04-04-22  Shipped - Delivered to Buyer   \n",
       "\n",
       "      Fulfilment Sales Channel  ship-service-level   Style              SKU  \\\n",
       "43908   Merchant      Amazon.in           Standard  SET393  SET393-KR-NP-XS   \n",
       "\n",
       "      Category  ... currency Amount ship-city  ship-state ship-postal-code  \\\n",
       "43908      Set  ...      INR  955.0    NIRMAL   TELANGANA         504106.0   \n",
       "\n",
       "       ship-country                                      promotion-ids    B2B  \\\n",
       "43908            IN  Amazon PLCC Free-Financing Universal Merchant ...  False   \n",
       "\n",
       "       fulfilled-by Unnamed: 22  \n",
       "43908     Easy Ship         NaN  \n",
       "\n",
       "[1 rows x 24 columns]"
      ]
     },
     "execution_count": 12,
     "metadata": {},
     "output_type": "execute_result"
    }
   ],
   "source": [
    "df.sample()"
   ]
  },
  {
   "cell_type": "code",
   "execution_count": 13,
   "metadata": {},
   "outputs": [
    {
     "data": {
      "text/html": [
       "<div>\n",
       "<style scoped>\n",
       "    .dataframe tbody tr th:only-of-type {\n",
       "        vertical-align: middle;\n",
       "    }\n",
       "\n",
       "    .dataframe tbody tr th {\n",
       "        vertical-align: top;\n",
       "    }\n",
       "\n",
       "    .dataframe thead th {\n",
       "        text-align: right;\n",
       "    }\n",
       "</style>\n",
       "<table border=\"1\" class=\"dataframe\">\n",
       "  <thead>\n",
       "    <tr style=\"text-align: right;\">\n",
       "      <th></th>\n",
       "      <th>index</th>\n",
       "      <th>Order ID</th>\n",
       "      <th>Date</th>\n",
       "      <th>Status</th>\n",
       "      <th>Fulfilment</th>\n",
       "      <th>Sales Channel</th>\n",
       "      <th>ship-service-level</th>\n",
       "      <th>Style</th>\n",
       "      <th>SKU</th>\n",
       "      <th>Category</th>\n",
       "      <th>...</th>\n",
       "      <th>currency</th>\n",
       "      <th>Amount</th>\n",
       "      <th>ship-city</th>\n",
       "      <th>ship-state</th>\n",
       "      <th>ship-postal-code</th>\n",
       "      <th>ship-country</th>\n",
       "      <th>promotion-ids</th>\n",
       "      <th>B2B</th>\n",
       "      <th>fulfilled-by</th>\n",
       "      <th>Unnamed: 22</th>\n",
       "    </tr>\n",
       "  </thead>\n",
       "  <tbody>\n",
       "    <tr>\n",
       "      <th>0</th>\n",
       "      <td>0</td>\n",
       "      <td>405-8078784-5731545</td>\n",
       "      <td>04-30-22</td>\n",
       "      <td>Cancelled</td>\n",
       "      <td>Merchant</td>\n",
       "      <td>Amazon.in</td>\n",
       "      <td>Standard</td>\n",
       "      <td>SET389</td>\n",
       "      <td>SET389-KR-NP-S</td>\n",
       "      <td>Set</td>\n",
       "      <td>...</td>\n",
       "      <td>INR</td>\n",
       "      <td>647.62</td>\n",
       "      <td>MUMBAI</td>\n",
       "      <td>MAHARASHTRA</td>\n",
       "      <td>400081.0</td>\n",
       "      <td>IN</td>\n",
       "      <td>NaN</td>\n",
       "      <td>False</td>\n",
       "      <td>Easy Ship</td>\n",
       "      <td>NaN</td>\n",
       "    </tr>\n",
       "    <tr>\n",
       "      <th>1</th>\n",
       "      <td>1</td>\n",
       "      <td>171-9198151-1101146</td>\n",
       "      <td>04-30-22</td>\n",
       "      <td>Shipped - Delivered to Buyer</td>\n",
       "      <td>Merchant</td>\n",
       "      <td>Amazon.in</td>\n",
       "      <td>Standard</td>\n",
       "      <td>JNE3781</td>\n",
       "      <td>JNE3781-KR-XXXL</td>\n",
       "      <td>kurta</td>\n",
       "      <td>...</td>\n",
       "      <td>INR</td>\n",
       "      <td>406.00</td>\n",
       "      <td>BENGALURU</td>\n",
       "      <td>KARNATAKA</td>\n",
       "      <td>560085.0</td>\n",
       "      <td>IN</td>\n",
       "      <td>Amazon PLCC Free-Financing Universal Merchant ...</td>\n",
       "      <td>False</td>\n",
       "      <td>Easy Ship</td>\n",
       "      <td>NaN</td>\n",
       "    </tr>\n",
       "    <tr>\n",
       "      <th>2</th>\n",
       "      <td>2</td>\n",
       "      <td>404-0687676-7273146</td>\n",
       "      <td>04-30-22</td>\n",
       "      <td>Shipped</td>\n",
       "      <td>Amazon</td>\n",
       "      <td>Amazon.in</td>\n",
       "      <td>Expedited</td>\n",
       "      <td>JNE3371</td>\n",
       "      <td>JNE3371-KR-XL</td>\n",
       "      <td>kurta</td>\n",
       "      <td>...</td>\n",
       "      <td>INR</td>\n",
       "      <td>329.00</td>\n",
       "      <td>NAVI MUMBAI</td>\n",
       "      <td>MAHARASHTRA</td>\n",
       "      <td>410210.0</td>\n",
       "      <td>IN</td>\n",
       "      <td>IN Core Free Shipping 2015/04/08 23-48-5-108</td>\n",
       "      <td>True</td>\n",
       "      <td>NaN</td>\n",
       "      <td>NaN</td>\n",
       "    </tr>\n",
       "    <tr>\n",
       "      <th>3</th>\n",
       "      <td>3</td>\n",
       "      <td>403-9615377-8133951</td>\n",
       "      <td>04-30-22</td>\n",
       "      <td>Cancelled</td>\n",
       "      <td>Merchant</td>\n",
       "      <td>Amazon.in</td>\n",
       "      <td>Standard</td>\n",
       "      <td>J0341</td>\n",
       "      <td>J0341-DR-L</td>\n",
       "      <td>Western Dress</td>\n",
       "      <td>...</td>\n",
       "      <td>INR</td>\n",
       "      <td>753.33</td>\n",
       "      <td>PUDUCHERRY</td>\n",
       "      <td>PUDUCHERRY</td>\n",
       "      <td>605008.0</td>\n",
       "      <td>IN</td>\n",
       "      <td>NaN</td>\n",
       "      <td>False</td>\n",
       "      <td>Easy Ship</td>\n",
       "      <td>NaN</td>\n",
       "    </tr>\n",
       "    <tr>\n",
       "      <th>4</th>\n",
       "      <td>4</td>\n",
       "      <td>407-1069790-7240320</td>\n",
       "      <td>04-30-22</td>\n",
       "      <td>Shipped</td>\n",
       "      <td>Amazon</td>\n",
       "      <td>Amazon.in</td>\n",
       "      <td>Expedited</td>\n",
       "      <td>JNE3671</td>\n",
       "      <td>JNE3671-TU-XXXL</td>\n",
       "      <td>Top</td>\n",
       "      <td>...</td>\n",
       "      <td>INR</td>\n",
       "      <td>574.00</td>\n",
       "      <td>CHENNAI</td>\n",
       "      <td>TAMIL NADU</td>\n",
       "      <td>600073.0</td>\n",
       "      <td>IN</td>\n",
       "      <td>NaN</td>\n",
       "      <td>False</td>\n",
       "      <td>NaN</td>\n",
       "      <td>NaN</td>\n",
       "    </tr>\n",
       "  </tbody>\n",
       "</table>\n",
       "<p>5 rows × 24 columns</p>\n",
       "</div>"
      ],
      "text/plain": [
       "   index             Order ID      Date                        Status  \\\n",
       "0      0  405-8078784-5731545  04-30-22                     Cancelled   \n",
       "1      1  171-9198151-1101146  04-30-22  Shipped - Delivered to Buyer   \n",
       "2      2  404-0687676-7273146  04-30-22                       Shipped   \n",
       "3      3  403-9615377-8133951  04-30-22                     Cancelled   \n",
       "4      4  407-1069790-7240320  04-30-22                       Shipped   \n",
       "\n",
       "  Fulfilment Sales Channel  ship-service-level    Style              SKU  \\\n",
       "0   Merchant      Amazon.in           Standard   SET389   SET389-KR-NP-S   \n",
       "1   Merchant      Amazon.in           Standard  JNE3781  JNE3781-KR-XXXL   \n",
       "2     Amazon      Amazon.in          Expedited  JNE3371    JNE3371-KR-XL   \n",
       "3   Merchant      Amazon.in           Standard    J0341       J0341-DR-L   \n",
       "4     Amazon      Amazon.in          Expedited  JNE3671  JNE3671-TU-XXXL   \n",
       "\n",
       "        Category  ... currency  Amount    ship-city   ship-state  \\\n",
       "0            Set  ...      INR  647.62       MUMBAI  MAHARASHTRA   \n",
       "1          kurta  ...      INR  406.00    BENGALURU    KARNATAKA   \n",
       "2          kurta  ...      INR  329.00  NAVI MUMBAI  MAHARASHTRA   \n",
       "3  Western Dress  ...      INR  753.33   PUDUCHERRY   PUDUCHERRY   \n",
       "4            Top  ...      INR  574.00      CHENNAI   TAMIL NADU   \n",
       "\n",
       "  ship-postal-code  ship-country  \\\n",
       "0         400081.0            IN   \n",
       "1         560085.0            IN   \n",
       "2         410210.0            IN   \n",
       "3         605008.0            IN   \n",
       "4         600073.0            IN   \n",
       "\n",
       "                                       promotion-ids    B2B  fulfilled-by  \\\n",
       "0                                                NaN  False     Easy Ship   \n",
       "1  Amazon PLCC Free-Financing Universal Merchant ...  False     Easy Ship   \n",
       "2       IN Core Free Shipping 2015/04/08 23-48-5-108   True           NaN   \n",
       "3                                                NaN  False     Easy Ship   \n",
       "4                                                NaN  False           NaN   \n",
       "\n",
       "  Unnamed: 22  \n",
       "0         NaN  \n",
       "1         NaN  \n",
       "2         NaN  \n",
       "3         NaN  \n",
       "4         NaN  \n",
       "\n",
       "[5 rows x 24 columns]"
      ]
     },
     "execution_count": 13,
     "metadata": {},
     "output_type": "execute_result"
    }
   ],
   "source": [
    "df.head()"
   ]
  },
  {
   "cell_type": "code",
   "execution_count": 14,
   "metadata": {},
   "outputs": [
    {
     "data": {
      "text/html": [
       "<div>\n",
       "<style scoped>\n",
       "    .dataframe tbody tr th:only-of-type {\n",
       "        vertical-align: middle;\n",
       "    }\n",
       "\n",
       "    .dataframe tbody tr th {\n",
       "        vertical-align: top;\n",
       "    }\n",
       "\n",
       "    .dataframe thead th {\n",
       "        text-align: right;\n",
       "    }\n",
       "</style>\n",
       "<table border=\"1\" class=\"dataframe\">\n",
       "  <thead>\n",
       "    <tr style=\"text-align: right;\">\n",
       "      <th></th>\n",
       "      <th>index</th>\n",
       "      <th>Order ID</th>\n",
       "      <th>Date</th>\n",
       "      <th>Status</th>\n",
       "      <th>Fulfilment</th>\n",
       "      <th>Sales Channel</th>\n",
       "      <th>ship-service-level</th>\n",
       "      <th>Style</th>\n",
       "      <th>SKU</th>\n",
       "      <th>Category</th>\n",
       "      <th>...</th>\n",
       "      <th>currency</th>\n",
       "      <th>Amount</th>\n",
       "      <th>ship-city</th>\n",
       "      <th>ship-state</th>\n",
       "      <th>ship-postal-code</th>\n",
       "      <th>ship-country</th>\n",
       "      <th>promotion-ids</th>\n",
       "      <th>B2B</th>\n",
       "      <th>fulfilled-by</th>\n",
       "      <th>Unnamed: 22</th>\n",
       "    </tr>\n",
       "  </thead>\n",
       "  <tbody>\n",
       "    <tr>\n",
       "      <th>128970</th>\n",
       "      <td>128970</td>\n",
       "      <td>406-6001380-7673107</td>\n",
       "      <td>05-31-22</td>\n",
       "      <td>Shipped</td>\n",
       "      <td>Amazon</td>\n",
       "      <td>Amazon.in</td>\n",
       "      <td>Expedited</td>\n",
       "      <td>JNE3697</td>\n",
       "      <td>JNE3697-KR-XL</td>\n",
       "      <td>kurta</td>\n",
       "      <td>...</td>\n",
       "      <td>INR</td>\n",
       "      <td>517.0</td>\n",
       "      <td>HYDERABAD</td>\n",
       "      <td>TELANGANA</td>\n",
       "      <td>500013.0</td>\n",
       "      <td>IN</td>\n",
       "      <td>NaN</td>\n",
       "      <td>False</td>\n",
       "      <td>NaN</td>\n",
       "      <td>False</td>\n",
       "    </tr>\n",
       "    <tr>\n",
       "      <th>128971</th>\n",
       "      <td>128971</td>\n",
       "      <td>402-9551604-7544318</td>\n",
       "      <td>05-31-22</td>\n",
       "      <td>Shipped</td>\n",
       "      <td>Amazon</td>\n",
       "      <td>Amazon.in</td>\n",
       "      <td>Expedited</td>\n",
       "      <td>SET401</td>\n",
       "      <td>SET401-KR-NP-M</td>\n",
       "      <td>Set</td>\n",
       "      <td>...</td>\n",
       "      <td>INR</td>\n",
       "      <td>999.0</td>\n",
       "      <td>GURUGRAM</td>\n",
       "      <td>HARYANA</td>\n",
       "      <td>122004.0</td>\n",
       "      <td>IN</td>\n",
       "      <td>IN Core Free Shipping 2015/04/08 23-48-5-108</td>\n",
       "      <td>False</td>\n",
       "      <td>NaN</td>\n",
       "      <td>False</td>\n",
       "    </tr>\n",
       "    <tr>\n",
       "      <th>128972</th>\n",
       "      <td>128972</td>\n",
       "      <td>407-9547469-3152358</td>\n",
       "      <td>05-31-22</td>\n",
       "      <td>Shipped</td>\n",
       "      <td>Amazon</td>\n",
       "      <td>Amazon.in</td>\n",
       "      <td>Expedited</td>\n",
       "      <td>J0157</td>\n",
       "      <td>J0157-DR-XXL</td>\n",
       "      <td>Western Dress</td>\n",
       "      <td>...</td>\n",
       "      <td>INR</td>\n",
       "      <td>690.0</td>\n",
       "      <td>HYDERABAD</td>\n",
       "      <td>TELANGANA</td>\n",
       "      <td>500049.0</td>\n",
       "      <td>IN</td>\n",
       "      <td>NaN</td>\n",
       "      <td>False</td>\n",
       "      <td>NaN</td>\n",
       "      <td>False</td>\n",
       "    </tr>\n",
       "    <tr>\n",
       "      <th>128973</th>\n",
       "      <td>128973</td>\n",
       "      <td>402-6184140-0545956</td>\n",
       "      <td>05-31-22</td>\n",
       "      <td>Shipped</td>\n",
       "      <td>Amazon</td>\n",
       "      <td>Amazon.in</td>\n",
       "      <td>Expedited</td>\n",
       "      <td>J0012</td>\n",
       "      <td>J0012-SKD-XS</td>\n",
       "      <td>Set</td>\n",
       "      <td>...</td>\n",
       "      <td>INR</td>\n",
       "      <td>1199.0</td>\n",
       "      <td>Halol</td>\n",
       "      <td>Gujarat</td>\n",
       "      <td>389350.0</td>\n",
       "      <td>IN</td>\n",
       "      <td>IN Core Free Shipping 2015/04/08 23-48-5-108</td>\n",
       "      <td>False</td>\n",
       "      <td>NaN</td>\n",
       "      <td>False</td>\n",
       "    </tr>\n",
       "    <tr>\n",
       "      <th>128974</th>\n",
       "      <td>128974</td>\n",
       "      <td>408-7436540-8728312</td>\n",
       "      <td>05-31-22</td>\n",
       "      <td>Shipped</td>\n",
       "      <td>Amazon</td>\n",
       "      <td>Amazon.in</td>\n",
       "      <td>Expedited</td>\n",
       "      <td>J0003</td>\n",
       "      <td>J0003-SET-S</td>\n",
       "      <td>Set</td>\n",
       "      <td>...</td>\n",
       "      <td>INR</td>\n",
       "      <td>696.0</td>\n",
       "      <td>Raipur</td>\n",
       "      <td>CHHATTISGARH</td>\n",
       "      <td>492014.0</td>\n",
       "      <td>IN</td>\n",
       "      <td>IN Core Free Shipping 2015/04/08 23-48-5-108</td>\n",
       "      <td>False</td>\n",
       "      <td>NaN</td>\n",
       "      <td>False</td>\n",
       "    </tr>\n",
       "  </tbody>\n",
       "</table>\n",
       "<p>5 rows × 24 columns</p>\n",
       "</div>"
      ],
      "text/plain": [
       "         index             Order ID      Date   Status Fulfilment  \\\n",
       "128970  128970  406-6001380-7673107  05-31-22  Shipped     Amazon   \n",
       "128971  128971  402-9551604-7544318  05-31-22  Shipped     Amazon   \n",
       "128972  128972  407-9547469-3152358  05-31-22  Shipped     Amazon   \n",
       "128973  128973  402-6184140-0545956  05-31-22  Shipped     Amazon   \n",
       "128974  128974  408-7436540-8728312  05-31-22  Shipped     Amazon   \n",
       "\n",
       "       Sales Channel  ship-service-level    Style             SKU  \\\n",
       "128970      Amazon.in          Expedited  JNE3697   JNE3697-KR-XL   \n",
       "128971      Amazon.in          Expedited   SET401  SET401-KR-NP-M   \n",
       "128972      Amazon.in          Expedited    J0157    J0157-DR-XXL   \n",
       "128973      Amazon.in          Expedited    J0012    J0012-SKD-XS   \n",
       "128974      Amazon.in          Expedited    J0003     J0003-SET-S   \n",
       "\n",
       "             Category  ... currency  Amount  ship-city    ship-state  \\\n",
       "128970          kurta  ...      INR   517.0  HYDERABAD     TELANGANA   \n",
       "128971            Set  ...      INR   999.0   GURUGRAM       HARYANA   \n",
       "128972  Western Dress  ...      INR   690.0  HYDERABAD     TELANGANA   \n",
       "128973            Set  ...      INR  1199.0      Halol       Gujarat   \n",
       "128974            Set  ...      INR   696.0     Raipur  CHHATTISGARH   \n",
       "\n",
       "       ship-postal-code  ship-country  \\\n",
       "128970         500013.0            IN   \n",
       "128971         122004.0            IN   \n",
       "128972         500049.0            IN   \n",
       "128973         389350.0            IN   \n",
       "128974         492014.0            IN   \n",
       "\n",
       "                                       promotion-ids    B2B  fulfilled-by  \\\n",
       "128970                                           NaN  False           NaN   \n",
       "128971  IN Core Free Shipping 2015/04/08 23-48-5-108  False           NaN   \n",
       "128972                                           NaN  False           NaN   \n",
       "128973  IN Core Free Shipping 2015/04/08 23-48-5-108  False           NaN   \n",
       "128974  IN Core Free Shipping 2015/04/08 23-48-5-108  False           NaN   \n",
       "\n",
       "       Unnamed: 22  \n",
       "128970       False  \n",
       "128971       False  \n",
       "128972       False  \n",
       "128973       False  \n",
       "128974       False  \n",
       "\n",
       "[5 rows x 24 columns]"
      ]
     },
     "execution_count": 14,
     "metadata": {},
     "output_type": "execute_result"
    }
   ],
   "source": [
    "df.tail()"
   ]
  },
  {
   "cell_type": "code",
   "execution_count": 15,
   "metadata": {
    "id": "-qfcocStzsKg"
   },
   "outputs": [],
   "source": [
    "#Inspecting the dataframe programmatically"
   ]
  },
  {
   "cell_type": "code",
   "execution_count": 16,
   "metadata": {},
   "outputs": [
    {
     "name": "stdout",
     "output_type": "stream",
     "text": [
      "         index             Order ID      Date                        Status  \\\n",
      "0            0  405-8078784-5731545  04-30-22                     Cancelled   \n",
      "1            1  171-9198151-1101146  04-30-22  Shipped - Delivered to Buyer   \n",
      "2            2  404-0687676-7273146  04-30-22                       Shipped   \n",
      "3            3  403-9615377-8133951  04-30-22                     Cancelled   \n",
      "4            4  407-1069790-7240320  04-30-22                       Shipped   \n",
      "...        ...                  ...       ...                           ...   \n",
      "128970  128970  406-6001380-7673107  05-31-22                       Shipped   \n",
      "128971  128971  402-9551604-7544318  05-31-22                       Shipped   \n",
      "128972  128972  407-9547469-3152358  05-31-22                       Shipped   \n",
      "128973  128973  402-6184140-0545956  05-31-22                       Shipped   \n",
      "128974  128974  408-7436540-8728312  05-31-22                       Shipped   \n",
      "\n",
      "       Fulfilment Sales Channel  ship-service-level    Style              SKU  \\\n",
      "0        Merchant      Amazon.in           Standard   SET389   SET389-KR-NP-S   \n",
      "1        Merchant      Amazon.in           Standard  JNE3781  JNE3781-KR-XXXL   \n",
      "2          Amazon      Amazon.in          Expedited  JNE3371    JNE3371-KR-XL   \n",
      "3        Merchant      Amazon.in           Standard    J0341       J0341-DR-L   \n",
      "4          Amazon      Amazon.in          Expedited  JNE3671  JNE3671-TU-XXXL   \n",
      "...           ...            ...                ...      ...              ...   \n",
      "128970     Amazon      Amazon.in          Expedited  JNE3697    JNE3697-KR-XL   \n",
      "128971     Amazon      Amazon.in          Expedited   SET401   SET401-KR-NP-M   \n",
      "128972     Amazon      Amazon.in          Expedited    J0157     J0157-DR-XXL   \n",
      "128973     Amazon      Amazon.in          Expedited    J0012     J0012-SKD-XS   \n",
      "128974     Amazon      Amazon.in          Expedited    J0003      J0003-SET-S   \n",
      "\n",
      "             Category  ... currency   Amount    ship-city    ship-state  \\\n",
      "0                 Set  ...      INR   647.62       MUMBAI   MAHARASHTRA   \n",
      "1               kurta  ...      INR   406.00    BENGALURU     KARNATAKA   \n",
      "2               kurta  ...      INR   329.00  NAVI MUMBAI   MAHARASHTRA   \n",
      "3       Western Dress  ...      INR   753.33   PUDUCHERRY    PUDUCHERRY   \n",
      "4                 Top  ...      INR   574.00      CHENNAI    TAMIL NADU   \n",
      "...               ...  ...      ...      ...          ...           ...   \n",
      "128970          kurta  ...      INR   517.00    HYDERABAD     TELANGANA   \n",
      "128971            Set  ...      INR   999.00     GURUGRAM       HARYANA   \n",
      "128972  Western Dress  ...      INR   690.00    HYDERABAD     TELANGANA   \n",
      "128973            Set  ...      INR  1199.00        Halol       Gujarat   \n",
      "128974            Set  ...      INR   696.00       Raipur  CHHATTISGARH   \n",
      "\n",
      "       ship-postal-code  ship-country  \\\n",
      "0              400081.0            IN   \n",
      "1              560085.0            IN   \n",
      "2              410210.0            IN   \n",
      "3              605008.0            IN   \n",
      "4              600073.0            IN   \n",
      "...                 ...           ...   \n",
      "128970         500013.0            IN   \n",
      "128971         122004.0            IN   \n",
      "128972         500049.0            IN   \n",
      "128973         389350.0            IN   \n",
      "128974         492014.0            IN   \n",
      "\n",
      "                                            promotion-ids    B2B  \\\n",
      "0                                                     NaN  False   \n",
      "1       Amazon PLCC Free-Financing Universal Merchant ...  False   \n",
      "2            IN Core Free Shipping 2015/04/08 23-48-5-108   True   \n",
      "3                                                     NaN  False   \n",
      "4                                                     NaN  False   \n",
      "...                                                   ...    ...   \n",
      "128970                                                NaN  False   \n",
      "128971       IN Core Free Shipping 2015/04/08 23-48-5-108  False   \n",
      "128972                                                NaN  False   \n",
      "128973       IN Core Free Shipping 2015/04/08 23-48-5-108  False   \n",
      "128974       IN Core Free Shipping 2015/04/08 23-48-5-108  False   \n",
      "\n",
      "        fulfilled-by Unnamed: 22  \n",
      "0          Easy Ship         NaN  \n",
      "1          Easy Ship         NaN  \n",
      "2                NaN         NaN  \n",
      "3          Easy Ship         NaN  \n",
      "4                NaN         NaN  \n",
      "...              ...         ...  \n",
      "128970           NaN       False  \n",
      "128971           NaN       False  \n",
      "128972           NaN       False  \n",
      "128973           NaN       False  \n",
      "128974           NaN       False  \n",
      "\n",
      "[128975 rows x 24 columns]\n"
     ]
    }
   ],
   "source": [
    "print(df)"
   ]
  },
  {
   "cell_type": "code",
   "execution_count": 17,
   "metadata": {},
   "outputs": [
    {
     "name": "stdout",
     "output_type": "stream",
     "text": [
      "<class 'pandas.core.frame.DataFrame'>\n",
      "RangeIndex: 128975 entries, 0 to 128974\n",
      "Data columns (total 24 columns):\n",
      " #   Column              Non-Null Count   Dtype  \n",
      "---  ------              --------------   -----  \n",
      " 0   index               128975 non-null  int64  \n",
      " 1   Order ID            128975 non-null  object \n",
      " 2   Date                128975 non-null  object \n",
      " 3   Status              128975 non-null  object \n",
      " 4   Fulfilment          128975 non-null  object \n",
      " 5   Sales Channel       128975 non-null  object \n",
      " 6   ship-service-level  128975 non-null  object \n",
      " 7   Style               128975 non-null  object \n",
      " 8   SKU                 128975 non-null  object \n",
      " 9   Category            128975 non-null  object \n",
      " 10  Size                128975 non-null  object \n",
      " 11  ASIN                128975 non-null  object \n",
      " 12  Courier Status      122103 non-null  object \n",
      " 13  Qty                 128975 non-null  int64  \n",
      " 14  currency            121180 non-null  object \n",
      " 15  Amount              121180 non-null  float64\n",
      " 16  ship-city           128942 non-null  object \n",
      " 17  ship-state          128942 non-null  object \n",
      " 18  ship-postal-code    128942 non-null  float64\n",
      " 19  ship-country        128942 non-null  object \n",
      " 20  promotion-ids       79822 non-null   object \n",
      " 21  B2B                 128975 non-null  bool   \n",
      " 22  fulfilled-by        39277 non-null   object \n",
      " 23  Unnamed: 22         79925 non-null   object \n",
      "dtypes: bool(1), float64(2), int64(2), object(19)\n",
      "memory usage: 22.8+ MB\n"
     ]
    }
   ],
   "source": [
    "df.info()"
   ]
  },
  {
   "cell_type": "code",
   "execution_count": 18,
   "metadata": {},
   "outputs": [
    {
     "name": "stdout",
     "output_type": "stream",
     "text": [
      "210495\n"
     ]
    }
   ],
   "source": [
    "print(df.isnull().sum().sum())"
   ]
  },
  {
   "cell_type": "code",
   "execution_count": 19,
   "metadata": {
    "scrolled": true
   },
   "outputs": [
    {
     "data": {
      "text/plain": [
       "index                     0\n",
       "Order ID                  0\n",
       "Date                      0\n",
       "Status                    0\n",
       "Fulfilment                0\n",
       "Sales Channel             0\n",
       "ship-service-level        0\n",
       "Style                     0\n",
       "SKU                       0\n",
       "Category                  0\n",
       "Size                      0\n",
       "ASIN                      0\n",
       "Courier Status         6872\n",
       "Qty                       0\n",
       "currency               7795\n",
       "Amount                 7795\n",
       "ship-city                33\n",
       "ship-state               33\n",
       "ship-postal-code         33\n",
       "ship-country             33\n",
       "promotion-ids         49153\n",
       "B2B                       0\n",
       "fulfilled-by          89698\n",
       "Unnamed: 22           49050\n",
       "dtype: int64"
      ]
     },
     "execution_count": 19,
     "metadata": {},
     "output_type": "execute_result"
    }
   ],
   "source": [
    "df.isnull().sum()"
   ]
  },
  {
   "cell_type": "code",
   "execution_count": 20,
   "metadata": {},
   "outputs": [
    {
     "data": {
      "image/png": "[encoded data removed]",
      "text/plain": [
       "<Figure size 640x480 with 2 Axes>"
      ]
     },
     "metadata": {},
     "output_type": "display_data"
    }
   ],
   "source": [
    "sns.heatmap(df.isna().transpose(),\n",
    "            cbar_kws={'label': 'Missing Data'}); "
   ]
  },
  {
   "cell_type": "markdown",
   "metadata": {},
   "source": [
    "<u> **Issue and justification:** </u>"
   ]
  },
  {
   "cell_type": "markdown",
   "metadata": {},
   "source": [
    "**Issue:**\n",
    "The Courier Status, currency, Amount, ship-city, ship-state, ship-postal-code, ship-country, promotion-ids, fulfilled-by and Unnamed: 22 columns in the dataset contains missing value.  \n",
    "\n",
    "**Justification:**  Missing values in these critical columns could compromise data quality, skew analysis results, and affect algorithm performance. Ensuring complete data in these columns allows for accurate analysis, reliable insights, thereby supporting better decision-making and operational efficiency."
   ]
  },
  {
   "cell_type": "markdown",
   "metadata": {
    "id": "8Be77N4I1AmE"
   },
   "source": [
    "### Quality Issue 2: Outliers in Stock column Sale Report Dataset"
   ]
  },
  {
   "cell_type": "code",
   "execution_count": 21,
   "metadata": {
    "id": "iMhHyiyLM2I3"
   },
   "outputs": [],
   "source": [
    "#Inspecting the dataframe visually"
   ]
  },
  {
   "cell_type": "code",
   "execution_count": 22,
   "metadata": {},
   "outputs": [
    {
     "data": {
      "text/html": [
       "<div>\n",
       "<style scoped>\n",
       "    .dataframe tbody tr th:only-of-type {\n",
       "        vertical-align: middle;\n",
       "    }\n",
       "\n",
       "    .dataframe tbody tr th {\n",
       "        vertical-align: top;\n",
       "    }\n",
       "\n",
       "    .dataframe thead th {\n",
       "        text-align: right;\n",
       "    }\n",
       "</style>\n",
       "<table border=\"1\" class=\"dataframe\">\n",
       "  <thead>\n",
       "    <tr style=\"text-align: right;\">\n",
       "      <th></th>\n",
       "      <th>index</th>\n",
       "      <th>SKU Code</th>\n",
       "      <th>Design No.</th>\n",
       "      <th>Stock</th>\n",
       "      <th>Category</th>\n",
       "      <th>Size</th>\n",
       "      <th>Color</th>\n",
       "    </tr>\n",
       "  </thead>\n",
       "  <tbody>\n",
       "    <tr>\n",
       "      <th>0</th>\n",
       "      <td>0</td>\n",
       "      <td>AN201-RED-L</td>\n",
       "      <td>AN201</td>\n",
       "      <td>5.0</td>\n",
       "      <td>AN : LEGGINGS</td>\n",
       "      <td>L</td>\n",
       "      <td>Red</td>\n",
       "    </tr>\n",
       "    <tr>\n",
       "      <th>1</th>\n",
       "      <td>1</td>\n",
       "      <td>AN201-RED-M</td>\n",
       "      <td>AN201</td>\n",
       "      <td>5.0</td>\n",
       "      <td>AN : LEGGINGS</td>\n",
       "      <td>M</td>\n",
       "      <td>Red</td>\n",
       "    </tr>\n",
       "    <tr>\n",
       "      <th>2</th>\n",
       "      <td>2</td>\n",
       "      <td>AN201-RED-S</td>\n",
       "      <td>AN201</td>\n",
       "      <td>3.0</td>\n",
       "      <td>AN : LEGGINGS</td>\n",
       "      <td>S</td>\n",
       "      <td>Red</td>\n",
       "    </tr>\n",
       "    <tr>\n",
       "      <th>3</th>\n",
       "      <td>3</td>\n",
       "      <td>AN201-RED-XL</td>\n",
       "      <td>AN201</td>\n",
       "      <td>6.0</td>\n",
       "      <td>AN : LEGGINGS</td>\n",
       "      <td>XL</td>\n",
       "      <td>Red</td>\n",
       "    </tr>\n",
       "    <tr>\n",
       "      <th>4</th>\n",
       "      <td>4</td>\n",
       "      <td>AN201-RED-XXL</td>\n",
       "      <td>AN201</td>\n",
       "      <td>3.0</td>\n",
       "      <td>AN : LEGGINGS</td>\n",
       "      <td>XXL</td>\n",
       "      <td>Red</td>\n",
       "    </tr>\n",
       "  </tbody>\n",
       "</table>\n",
       "</div>"
      ],
      "text/plain": [
       "   index       SKU Code Design No.  Stock       Category Size Color\n",
       "0      0    AN201-RED-L      AN201    5.0  AN : LEGGINGS    L   Red\n",
       "1      1    AN201-RED-M      AN201    5.0  AN : LEGGINGS    M   Red\n",
       "2      2    AN201-RED-S      AN201    3.0  AN : LEGGINGS    S   Red\n",
       "3      3   AN201-RED-XL      AN201    6.0  AN : LEGGINGS   XL   Red\n",
       "4      4  AN201-RED-XXL      AN201    3.0  AN : LEGGINGS  XXL   Red"
      ]
     },
     "execution_count": 22,
     "metadata": {},
     "output_type": "execute_result"
    }
   ],
   "source": [
    "df2.head()"
   ]
  },
  {
   "cell_type": "code",
   "execution_count": 23,
   "metadata": {},
   "outputs": [
    {
     "data": {
      "text/html": [
       "<div>\n",
       "<style scoped>\n",
       "    .dataframe tbody tr th:only-of-type {\n",
       "        vertical-align: middle;\n",
       "    }\n",
       "\n",
       "    .dataframe tbody tr th {\n",
       "        vertical-align: top;\n",
       "    }\n",
       "\n",
       "    .dataframe thead th {\n",
       "        text-align: right;\n",
       "    }\n",
       "</style>\n",
       "<table border=\"1\" class=\"dataframe\">\n",
       "  <thead>\n",
       "    <tr style=\"text-align: right;\">\n",
       "      <th></th>\n",
       "      <th>index</th>\n",
       "      <th>SKU Code</th>\n",
       "      <th>Design No.</th>\n",
       "      <th>Stock</th>\n",
       "      <th>Category</th>\n",
       "      <th>Size</th>\n",
       "      <th>Color</th>\n",
       "    </tr>\n",
       "  </thead>\n",
       "  <tbody>\n",
       "    <tr>\n",
       "      <th>9266</th>\n",
       "      <td>9266</td>\n",
       "      <td>NaN</td>\n",
       "      <td>NaN</td>\n",
       "      <td>NaN</td>\n",
       "      <td>NaN</td>\n",
       "      <td>NaN</td>\n",
       "      <td>NaN</td>\n",
       "    </tr>\n",
       "    <tr>\n",
       "      <th>9267</th>\n",
       "      <td>9267</td>\n",
       "      <td>NaN</td>\n",
       "      <td>NaN</td>\n",
       "      <td>NaN</td>\n",
       "      <td>NaN</td>\n",
       "      <td>NaN</td>\n",
       "      <td>NaN</td>\n",
       "    </tr>\n",
       "    <tr>\n",
       "      <th>9268</th>\n",
       "      <td>9268</td>\n",
       "      <td>NaN</td>\n",
       "      <td>NaN</td>\n",
       "      <td>NaN</td>\n",
       "      <td>NaN</td>\n",
       "      <td>NaN</td>\n",
       "      <td>NaN</td>\n",
       "    </tr>\n",
       "    <tr>\n",
       "      <th>9269</th>\n",
       "      <td>9269</td>\n",
       "      <td>NaN</td>\n",
       "      <td>NaN</td>\n",
       "      <td>NaN</td>\n",
       "      <td>NaN</td>\n",
       "      <td>NaN</td>\n",
       "      <td>NaN</td>\n",
       "    </tr>\n",
       "    <tr>\n",
       "      <th>9270</th>\n",
       "      <td>9270</td>\n",
       "      <td>NaN</td>\n",
       "      <td>NaN</td>\n",
       "      <td>NaN</td>\n",
       "      <td>NaN</td>\n",
       "      <td>NaN</td>\n",
       "      <td>NaN</td>\n",
       "    </tr>\n",
       "  </tbody>\n",
       "</table>\n",
       "</div>"
      ],
      "text/plain": [
       "      index SKU Code Design No.  Stock Category Size Color\n",
       "9266   9266      NaN        NaN    NaN      NaN  NaN   NaN\n",
       "9267   9267      NaN        NaN    NaN      NaN  NaN   NaN\n",
       "9268   9268      NaN        NaN    NaN      NaN  NaN   NaN\n",
       "9269   9269      NaN        NaN    NaN      NaN  NaN   NaN\n",
       "9270   9270      NaN        NaN    NaN      NaN  NaN   NaN"
      ]
     },
     "execution_count": 23,
     "metadata": {},
     "output_type": "execute_result"
    }
   ],
   "source": [
    "df2.tail()"
   ]
  },
  {
   "cell_type": "code",
   "execution_count": 24,
   "metadata": {},
   "outputs": [
    {
     "data": {
      "text/html": [
       "<div>\n",
       "<style scoped>\n",
       "    .dataframe tbody tr th:only-of-type {\n",
       "        vertical-align: middle;\n",
       "    }\n",
       "\n",
       "    .dataframe tbody tr th {\n",
       "        vertical-align: top;\n",
       "    }\n",
       "\n",
       "    .dataframe thead th {\n",
       "        text-align: right;\n",
       "    }\n",
       "</style>\n",
       "<table border=\"1\" class=\"dataframe\">\n",
       "  <thead>\n",
       "    <tr style=\"text-align: right;\">\n",
       "      <th></th>\n",
       "      <th>index</th>\n",
       "      <th>SKU Code</th>\n",
       "      <th>Design No.</th>\n",
       "      <th>Stock</th>\n",
       "      <th>Category</th>\n",
       "      <th>Size</th>\n",
       "      <th>Color</th>\n",
       "    </tr>\n",
       "  </thead>\n",
       "  <tbody>\n",
       "    <tr>\n",
       "      <th>1956</th>\n",
       "      <td>1956</td>\n",
       "      <td>J0230-SKD-M</td>\n",
       "      <td>J0230</td>\n",
       "      <td>152.0</td>\n",
       "      <td>KURTA SET</td>\n",
       "      <td>M</td>\n",
       "      <td>Blue</td>\n",
       "    </tr>\n",
       "    <tr>\n",
       "      <th>2563</th>\n",
       "      <td>2563</td>\n",
       "      <td>J0345-SET-XS</td>\n",
       "      <td>J0345</td>\n",
       "      <td>0.0</td>\n",
       "      <td>SET</td>\n",
       "      <td>XS</td>\n",
       "      <td>Cream</td>\n",
       "    </tr>\n",
       "    <tr>\n",
       "      <th>6034</th>\n",
       "      <td>6034</td>\n",
       "      <td>JNE3790-KR-XXXL</td>\n",
       "      <td>JNE3790</td>\n",
       "      <td>5.0</td>\n",
       "      <td>KURTA</td>\n",
       "      <td>XXXL</td>\n",
       "      <td>Navy Blue</td>\n",
       "    </tr>\n",
       "    <tr>\n",
       "      <th>5614</th>\n",
       "      <td>5614</td>\n",
       "      <td>JNE3722-KR-M</td>\n",
       "      <td>JNE3722</td>\n",
       "      <td>5.0</td>\n",
       "      <td>KURTA</td>\n",
       "      <td>M</td>\n",
       "      <td>Navy Blue</td>\n",
       "    </tr>\n",
       "    <tr>\n",
       "      <th>4365</th>\n",
       "      <td>4365</td>\n",
       "      <td>JNE3477-KR-XL</td>\n",
       "      <td>JNE3477</td>\n",
       "      <td>4.0</td>\n",
       "      <td>KURTA</td>\n",
       "      <td>XL</td>\n",
       "      <td>Peach</td>\n",
       "    </tr>\n",
       "    <tr>\n",
       "      <th>2745</th>\n",
       "      <td>2745</td>\n",
       "      <td>J0388-TP-XS</td>\n",
       "      <td>J0388</td>\n",
       "      <td>29.0</td>\n",
       "      <td>TOP</td>\n",
       "      <td>XS</td>\n",
       "      <td>Red</td>\n",
       "    </tr>\n",
       "  </tbody>\n",
       "</table>\n",
       "</div>"
      ],
      "text/plain": [
       "      index         SKU Code Design No.  Stock   Category  Size      Color\n",
       "1956   1956      J0230-SKD-M      J0230  152.0  KURTA SET     M       Blue\n",
       "2563   2563     J0345-SET-XS      J0345    0.0        SET    XS      Cream\n",
       "6034   6034  JNE3790-KR-XXXL    JNE3790    5.0      KURTA  XXXL  Navy Blue\n",
       "5614   5614     JNE3722-KR-M    JNE3722    5.0      KURTA     M  Navy Blue\n",
       "4365   4365    JNE3477-KR-XL    JNE3477    4.0      KURTA    XL      Peach\n",
       "2745   2745      J0388-TP-XS      J0388   29.0        TOP    XS        Red"
      ]
     },
     "execution_count": 24,
     "metadata": {},
     "output_type": "execute_result"
    }
   ],
   "source": [
    "df2.sample(6)"
   ]
  },
  {
   "cell_type": "code",
   "execution_count": 25,
   "metadata": {
    "id": "bnviRCUI-bb7"
   },
   "outputs": [],
   "source": [
    "#Inspecting the dataframe programmatically"
   ]
  },
  {
   "cell_type": "code",
   "execution_count": 26,
   "metadata": {},
   "outputs": [
    {
     "name": "stdout",
     "output_type": "stream",
     "text": [
      "<class 'pandas.core.frame.DataFrame'>\n",
      "RangeIndex: 9271 entries, 0 to 9270\n",
      "Data columns (total 7 columns):\n",
      " #   Column      Non-Null Count  Dtype  \n",
      "---  ------      --------------  -----  \n",
      " 0   index       9271 non-null   int64  \n",
      " 1   SKU Code    9188 non-null   object \n",
      " 2   Design No.  9235 non-null   object \n",
      " 3   Stock       9235 non-null   float64\n",
      " 4   Category    9226 non-null   object \n",
      " 5   Size        9235 non-null   object \n",
      " 6   Color       9226 non-null   object \n",
      "dtypes: float64(1), int64(1), object(5)\n",
      "memory usage: 507.1+ KB\n"
     ]
    }
   ],
   "source": [
    "df2.info()"
   ]
  },
  {
   "cell_type": "code",
   "execution_count": 27,
   "metadata": {},
   "outputs": [
    {
     "data": {
      "text/plain": [
       "count    9235.000000\n",
       "mean       26.246454\n",
       "std        58.462891\n",
       "min         0.000000\n",
       "25%         3.000000\n",
       "50%         8.000000\n",
       "75%        31.000000\n",
       "max      1234.000000\n",
       "Name: Stock, dtype: float64"
      ]
     },
     "execution_count": 27,
     "metadata": {},
     "output_type": "execute_result"
    }
   ],
   "source": [
    "df2['Stock'].describe()"
   ]
  },
  {
   "cell_type": "code",
   "execution_count": 28,
   "metadata": {},
   "outputs": [
    {
     "data": {
      "image/png": "[encoded data removed]",
      "text/plain": [
       "<Figure size 1000x600 with 1 Axes>"
      ]
     },
     "metadata": {},
     "output_type": "display_data"
    }
   ],
   "source": [
    "#  Create the boxplot\n",
    "\n",
    "column_name = 'Stock'\n",
    "\n",
    "plt.figure(figsize=(10, 6))\n",
    "sns.boxplot(data=df2, y=column_name)\n",
    "\n",
    "# Add title and labels\n",
    "plt.title(f'Boxplot of {column_name}')\n",
    "plt.ylabel(column_name)\n",
    "\n",
    "# Display the plot\n",
    "plt.show()"
   ]
  },
  {
   "cell_type": "markdown",
   "metadata": {},
   "source": [
    "This boxplot provides a visual representation of the distribution of the \"Stock\" variable,highlights the presence of outliers of the data distribution in the column."
   ]
  },
  {
   "cell_type": "markdown",
   "metadata": {},
   "source": [
    "<u> **Issue and justification:** </u>\n",
    "\n",
    "**Issue:** The Stock column in the dataset contains outliers.\n",
    "\n",
    "**Justification:** Financial data, such as the Number of items in stock column, is crucial for business insights and decision-making. Outliers can represent errors, fraud, or rare events that are not indicative of normal business operations."
   ]
  },
  {
   "cell_type": "markdown",
   "metadata": {
    "id": "lXhGiYyiwwKN"
   },
   "source": [
    "### Tidiness Issue 1:Multiple variables stored in one column in amazon sale report data"
   ]
  },
  {
   "cell_type": "code",
   "execution_count": 29,
   "metadata": {
    "id": "fleC5rORI0Xl"
   },
   "outputs": [],
   "source": [
    "#Inspecting the dataframe visually"
   ]
  },
  {
   "cell_type": "code",
   "execution_count": 30,
   "metadata": {},
   "outputs": [
    {
     "name": "stdout",
     "output_type": "stream",
     "text": [
      "<class 'pandas.core.frame.DataFrame'>\n",
      "RangeIndex: 128975 entries, 0 to 128974\n",
      "Data columns (total 24 columns):\n",
      " #   Column              Non-Null Count   Dtype  \n",
      "---  ------              --------------   -----  \n",
      " 0   index               128975 non-null  int64  \n",
      " 1   Order ID            128975 non-null  object \n",
      " 2   Date                128975 non-null  object \n",
      " 3   Status              128975 non-null  object \n",
      " 4   Fulfilment          128975 non-null  object \n",
      " 5   Sales Channel       128975 non-null  object \n",
      " 6   ship-service-level  128975 non-null  object \n",
      " 7   Style               128975 non-null  object \n",
      " 8   SKU                 128975 non-null  object \n",
      " 9   Category            128975 non-null  object \n",
      " 10  Size                128975 non-null  object \n",
      " 11  ASIN                128975 non-null  object \n",
      " 12  Courier Status      122103 non-null  object \n",
      " 13  Qty                 128975 non-null  int64  \n",
      " 14  currency            121180 non-null  object \n",
      " 15  Amount              121180 non-null  float64\n",
      " 16  ship-city           128942 non-null  object \n",
      " 17  ship-state          128942 non-null  object \n",
      " 18  ship-postal-code    128942 non-null  float64\n",
      " 19  ship-country        128942 non-null  object \n",
      " 20  promotion-ids       79822 non-null   object \n",
      " 21  B2B                 128975 non-null  bool   \n",
      " 22  fulfilled-by        39277 non-null   object \n",
      " 23  Unnamed: 22         79925 non-null   object \n",
      "dtypes: bool(1), float64(2), int64(2), object(19)\n",
      "memory usage: 22.8+ MB\n"
     ]
    }
   ],
   "source": [
    "df.info()"
   ]
  },
  {
   "cell_type": "code",
   "execution_count": 31,
   "metadata": {
    "id": "BTuQw7Rbsio4"
   },
   "outputs": [],
   "source": [
    "#Inspecting the dataframe programmatically"
   ]
  },
  {
   "cell_type": "markdown",
   "metadata": {},
   "source": [
    "*Inspecting the `Status` column*"
   ]
  },
  {
   "cell_type": "code",
   "execution_count": 32,
   "metadata": {},
   "outputs": [
    {
     "data": {
      "text/plain": [
       "count      128975\n",
       "unique         13\n",
       "top       Shipped\n",
       "freq        77804\n",
       "Name: Status, dtype: object"
      ]
     },
     "execution_count": 32,
     "metadata": {},
     "output_type": "execute_result"
    }
   ],
   "source": [
    "#describe the data\n",
    "df['Status'].describe()"
   ]
  },
  {
   "cell_type": "code",
   "execution_count": 33,
   "metadata": {},
   "outputs": [
    {
     "data": {
      "text/plain": [
       "Status\n",
       "Shipped                          77804\n",
       "Shipped - Delivered to Buyer     28769\n",
       "Cancelled                        18332\n",
       "Shipped - Returned to Seller      1953\n",
       "Shipped - Picked Up                973\n",
       "Pending                            658\n",
       "Pending - Waiting for Pick Up      281\n",
       "Shipped - Returning to Seller      145\n",
       "Shipped - Out for Delivery          35\n",
       "Shipped - Rejected by Buyer         11\n",
       "Shipping                             8\n",
       "Shipped - Lost in Transit            5\n",
       "Shipped - Damaged                    1\n",
       "Name: count, dtype: int64"
      ]
     },
     "execution_count": 33,
     "metadata": {},
     "output_type": "execute_result"
    }
   ],
   "source": [
    "# use .value_counts() on the data\n",
    "df['Status'].value_counts()"
   ]
  },
  {
   "cell_type": "markdown",
   "metadata": {},
   "source": [
    "*Inspecting the `SKU` column*"
   ]
  },
  {
   "cell_type": "code",
   "execution_count": 34,
   "metadata": {},
   "outputs": [
    {
     "data": {
      "text/plain": [
       "count           128975\n",
       "unique            7195\n",
       "top       JNE3797-KR-L\n",
       "freq               773\n",
       "Name: SKU, dtype: object"
      ]
     },
     "execution_count": 34,
     "metadata": {},
     "output_type": "execute_result"
    }
   ],
   "source": [
    "df['SKU'].describe()"
   ]
  },
  {
   "cell_type": "code",
   "execution_count": 35,
   "metadata": {},
   "outputs": [
    {
     "data": {
      "text/plain": [
       "SKU\n",
       "JNE3797-KR-L       773\n",
       "JNE3797-KR-M       657\n",
       "JNE3797-KR-S       587\n",
       "JNE3405-KR-L       535\n",
       "J0230-SKD-M        507\n",
       "                  ... \n",
       "BTM004-XXXL          1\n",
       "BL090-XS             1\n",
       "BTM045-PP-M          1\n",
       "SET034-KR-NP-XS      1\n",
       "SET045-KR-NP-M       1\n",
       "Name: count, Length: 7195, dtype: int64"
      ]
     },
     "execution_count": 35,
     "metadata": {},
     "output_type": "execute_result"
    }
   ],
   "source": [
    "df['SKU'].value_counts()"
   ]
  },
  {
   "cell_type": "markdown",
   "metadata": {},
   "source": [
    "*Inspecting the `Size` column*"
   ]
  },
  {
   "cell_type": "code",
   "execution_count": 36,
   "metadata": {},
   "outputs": [
    {
     "data": {
      "text/plain": [
       "Size\n",
       "M       22711\n",
       "L       22132\n",
       "XL      20876\n",
       "XXL     18096\n",
       "S       17090\n",
       "3XL     14816\n",
       "XS      11161\n",
       "6XL       738\n",
       "5XL       550\n",
       "4XL       427\n",
       "Free      378\n",
       "Name: count, dtype: int64"
      ]
     },
     "execution_count": 36,
     "metadata": {},
     "output_type": "execute_result"
    }
   ],
   "source": [
    "df['Size'].value_counts()"
   ]
  },
  {
   "cell_type": "markdown",
   "metadata": {},
   "source": [
    "<u> **Issue and justification:** </u>"
   ]
  },
  {
   "cell_type": "markdown",
   "metadata": {},
   "source": [
    "The amazon sale report data's (status) column has **Multiple variables stored in one column**, i.e., multiple variables stored in one column. There are about 10 unique values in this column! It contains the Delivery Statuses and shipping Statuses. However, there is already a variable representing the shipping Statuses(Courier Status) containing  the current stage of an item or order within the process of being shipped from one location  to another.  "
   ]
  },
  {
   "cell_type": "markdown",
   "metadata": {
    "id": "4ffMoRGSwzYj"
   },
   "source": [
    "### Tidiness Issue 2:Multiple variables stored in one column & Redundant data"
   ]
  },
  {
   "cell_type": "code",
   "execution_count": 37,
   "metadata": {
    "id": "XUpeoqokw5Qt"
   },
   "outputs": [],
   "source": [
    "# Inspecting the dataframe visually"
   ]
  },
  {
   "cell_type": "code",
   "execution_count": 38,
   "metadata": {},
   "outputs": [
    {
     "name": "stdout",
     "output_type": "stream",
     "text": [
      "<class 'pandas.core.frame.DataFrame'>\n",
      "RangeIndex: 9271 entries, 0 to 9270\n",
      "Data columns (total 7 columns):\n",
      " #   Column      Non-Null Count  Dtype  \n",
      "---  ------      --------------  -----  \n",
      " 0   index       9271 non-null   int64  \n",
      " 1   SKU Code    9188 non-null   object \n",
      " 2   Design No.  9235 non-null   object \n",
      " 3   Stock       9235 non-null   float64\n",
      " 4   Category    9226 non-null   object \n",
      " 5   Size        9235 non-null   object \n",
      " 6   Color       9226 non-null   object \n",
      "dtypes: float64(1), int64(1), object(5)\n",
      "memory usage: 507.1+ KB\n"
     ]
    }
   ],
   "source": [
    "df2.info()"
   ]
  },
  {
   "cell_type": "code",
   "execution_count": 39,
   "metadata": {
    "scrolled": true
   },
   "outputs": [
    {
     "data": {
      "text/html": [
       "<div>\n",
       "<style scoped>\n",
       "    .dataframe tbody tr th:only-of-type {\n",
       "        vertical-align: middle;\n",
       "    }\n",
       "\n",
       "    .dataframe tbody tr th {\n",
       "        vertical-align: top;\n",
       "    }\n",
       "\n",
       "    .dataframe thead th {\n",
       "        text-align: right;\n",
       "    }\n",
       "</style>\n",
       "<table border=\"1\" class=\"dataframe\">\n",
       "  <thead>\n",
       "    <tr style=\"text-align: right;\">\n",
       "      <th></th>\n",
       "      <th>index</th>\n",
       "      <th>SKU Code</th>\n",
       "      <th>Design No.</th>\n",
       "      <th>Stock</th>\n",
       "      <th>Category</th>\n",
       "      <th>Size</th>\n",
       "      <th>Color</th>\n",
       "    </tr>\n",
       "  </thead>\n",
       "  <tbody>\n",
       "    <tr>\n",
       "      <th>0</th>\n",
       "      <td>0</td>\n",
       "      <td>AN201-RED-L</td>\n",
       "      <td>AN201</td>\n",
       "      <td>5.0</td>\n",
       "      <td>AN : LEGGINGS</td>\n",
       "      <td>L</td>\n",
       "      <td>Red</td>\n",
       "    </tr>\n",
       "    <tr>\n",
       "      <th>1</th>\n",
       "      <td>1</td>\n",
       "      <td>AN201-RED-M</td>\n",
       "      <td>AN201</td>\n",
       "      <td>5.0</td>\n",
       "      <td>AN : LEGGINGS</td>\n",
       "      <td>M</td>\n",
       "      <td>Red</td>\n",
       "    </tr>\n",
       "    <tr>\n",
       "      <th>2</th>\n",
       "      <td>2</td>\n",
       "      <td>AN201-RED-S</td>\n",
       "      <td>AN201</td>\n",
       "      <td>3.0</td>\n",
       "      <td>AN : LEGGINGS</td>\n",
       "      <td>S</td>\n",
       "      <td>Red</td>\n",
       "    </tr>\n",
       "    <tr>\n",
       "      <th>3</th>\n",
       "      <td>3</td>\n",
       "      <td>AN201-RED-XL</td>\n",
       "      <td>AN201</td>\n",
       "      <td>6.0</td>\n",
       "      <td>AN : LEGGINGS</td>\n",
       "      <td>XL</td>\n",
       "      <td>Red</td>\n",
       "    </tr>\n",
       "    <tr>\n",
       "      <th>4</th>\n",
       "      <td>4</td>\n",
       "      <td>AN201-RED-XXL</td>\n",
       "      <td>AN201</td>\n",
       "      <td>3.0</td>\n",
       "      <td>AN : LEGGINGS</td>\n",
       "      <td>XXL</td>\n",
       "      <td>Red</td>\n",
       "    </tr>\n",
       "  </tbody>\n",
       "</table>\n",
       "</div>"
      ],
      "text/plain": [
       "   index       SKU Code Design No.  Stock       Category Size Color\n",
       "0      0    AN201-RED-L      AN201    5.0  AN : LEGGINGS    L   Red\n",
       "1      1    AN201-RED-M      AN201    5.0  AN : LEGGINGS    M   Red\n",
       "2      2    AN201-RED-S      AN201    3.0  AN : LEGGINGS    S   Red\n",
       "3      3   AN201-RED-XL      AN201    6.0  AN : LEGGINGS   XL   Red\n",
       "4      4  AN201-RED-XXL      AN201    3.0  AN : LEGGINGS  XXL   Red"
      ]
     },
     "execution_count": 39,
     "metadata": {},
     "output_type": "execute_result"
    }
   ],
   "source": [
    "df2.head()"
   ]
  },
  {
   "cell_type": "code",
   "execution_count": 40,
   "metadata": {},
   "outputs": [
    {
     "data": {
      "text/html": [
       "<div>\n",
       "<style scoped>\n",
       "    .dataframe tbody tr th:only-of-type {\n",
       "        vertical-align: middle;\n",
       "    }\n",
       "\n",
       "    .dataframe tbody tr th {\n",
       "        vertical-align: top;\n",
       "    }\n",
       "\n",
       "    .dataframe thead th {\n",
       "        text-align: right;\n",
       "    }\n",
       "</style>\n",
       "<table border=\"1\" class=\"dataframe\">\n",
       "  <thead>\n",
       "    <tr style=\"text-align: right;\">\n",
       "      <th></th>\n",
       "      <th>index</th>\n",
       "      <th>SKU Code</th>\n",
       "      <th>Design No.</th>\n",
       "      <th>Stock</th>\n",
       "      <th>Category</th>\n",
       "      <th>Size</th>\n",
       "      <th>Color</th>\n",
       "    </tr>\n",
       "  </thead>\n",
       "  <tbody>\n",
       "    <tr>\n",
       "      <th>9266</th>\n",
       "      <td>9266</td>\n",
       "      <td>NaN</td>\n",
       "      <td>NaN</td>\n",
       "      <td>NaN</td>\n",
       "      <td>NaN</td>\n",
       "      <td>NaN</td>\n",
       "      <td>NaN</td>\n",
       "    </tr>\n",
       "    <tr>\n",
       "      <th>9267</th>\n",
       "      <td>9267</td>\n",
       "      <td>NaN</td>\n",
       "      <td>NaN</td>\n",
       "      <td>NaN</td>\n",
       "      <td>NaN</td>\n",
       "      <td>NaN</td>\n",
       "      <td>NaN</td>\n",
       "    </tr>\n",
       "    <tr>\n",
       "      <th>9268</th>\n",
       "      <td>9268</td>\n",
       "      <td>NaN</td>\n",
       "      <td>NaN</td>\n",
       "      <td>NaN</td>\n",
       "      <td>NaN</td>\n",
       "      <td>NaN</td>\n",
       "      <td>NaN</td>\n",
       "    </tr>\n",
       "    <tr>\n",
       "      <th>9269</th>\n",
       "      <td>9269</td>\n",
       "      <td>NaN</td>\n",
       "      <td>NaN</td>\n",
       "      <td>NaN</td>\n",
       "      <td>NaN</td>\n",
       "      <td>NaN</td>\n",
       "      <td>NaN</td>\n",
       "    </tr>\n",
       "    <tr>\n",
       "      <th>9270</th>\n",
       "      <td>9270</td>\n",
       "      <td>NaN</td>\n",
       "      <td>NaN</td>\n",
       "      <td>NaN</td>\n",
       "      <td>NaN</td>\n",
       "      <td>NaN</td>\n",
       "      <td>NaN</td>\n",
       "    </tr>\n",
       "  </tbody>\n",
       "</table>\n",
       "</div>"
      ],
      "text/plain": [
       "      index SKU Code Design No.  Stock Category Size Color\n",
       "9266   9266      NaN        NaN    NaN      NaN  NaN   NaN\n",
       "9267   9267      NaN        NaN    NaN      NaN  NaN   NaN\n",
       "9268   9268      NaN        NaN    NaN      NaN  NaN   NaN\n",
       "9269   9269      NaN        NaN    NaN      NaN  NaN   NaN\n",
       "9270   9270      NaN        NaN    NaN      NaN  NaN   NaN"
      ]
     },
     "execution_count": 40,
     "metadata": {},
     "output_type": "execute_result"
    }
   ],
   "source": [
    "df2.tail()"
   ]
  },
  {
   "cell_type": "code",
   "execution_count": 41,
   "metadata": {
    "id": "c8JK4DoXxtFA"
   },
   "outputs": [],
   "source": [
    "#Inspecting the dataframe programmatically"
   ]
  },
  {
   "cell_type": "code",
   "execution_count": 42,
   "metadata": {
    "scrolled": true
   },
   "outputs": [],
   "source": [
    "#df2[[\"SKU Code\",\"Size\"]].sample(10)"
   ]
  },
  {
   "cell_type": "code",
   "execution_count": 43,
   "metadata": {},
   "outputs": [
    {
     "name": "stdout",
     "output_type": "stream",
     "text": [
      "First row: \n",
      "index                     1\n",
      "SKU Code        AN201-RED-M\n",
      "Design No.            AN201\n",
      "Stock                   5.0\n",
      "Category      AN : LEGGINGS\n",
      "Size                      M\n",
      "Color                   Red\n",
      "Name: 1, dtype: object\n"
     ]
    }
   ],
   "source": [
    "# Accessing specific data\n",
    "print(f\"First row: \\n{df2.iloc[1]}\")"
   ]
  },
  {
   "cell_type": "markdown",
   "metadata": {},
   "source": [
    "<u> **Issue and justification:** </u>  \n",
    "**Incorrectly Combined Data in \"SKU Code\" Column that already exist in \"size\" Column**.The \"SKU Code\" column currently combines the product code (e.g., J0140-SET, JNE3718-KR) and the size (e.g., XS, XL). This format makes analysis challenging as the data needs to be separated into distinct columns for each variable.  \n",
    "\n",
    "Additionally, **The sizes in \"SKU Code\" column is redundant** the size is already included within the \"Size\" column. This redundancy can lead to inconsistencies and complexity in data analysis."
   ]
  },
  {
   "cell_type": "markdown",
   "metadata": {
    "id": "D6gmLnBttpCh"
   },
   "source": [
    "<a id=Cleaning-Data><a/>\n",
    "## 3. Clean data"
   ]
  },
  {
   "cell_type": "code",
   "execution_count": 44,
   "metadata": {},
   "outputs": [],
   "source": [
    "#  Make copies of the datasets to ensure the raw dataframes are not impacted\n",
    "df_copy = df.copy()\n",
    "df2_copy = df2.copy()"
   ]
  },
  {
   "cell_type": "markdown",
   "metadata": {
    "id": "FmFhN52Yyn3l"
   },
   "source": [
    "### **Quality Issue 1:Missing values**"
   ]
  },
  {
   "cell_type": "code",
   "execution_count": 45,
   "metadata": {
    "id": "9UejDWrNMW4a"
   },
   "outputs": [],
   "source": [
    "#Apply the cleaning strategy"
   ]
  },
  {
   "cell_type": "code",
   "execution_count": 46,
   "metadata": {},
   "outputs": [
    {
     "data": {
      "text/plain": [
       "index                     0\n",
       "Order ID                  0\n",
       "Date                      0\n",
       "Status                    0\n",
       "Fulfilment                0\n",
       "Sales Channel             0\n",
       "ship-service-level        0\n",
       "Style                     0\n",
       "SKU                       0\n",
       "Category                  0\n",
       "Size                      0\n",
       "ASIN                      0\n",
       "Courier Status         6872\n",
       "Qty                       0\n",
       "currency               7795\n",
       "Amount                 7795\n",
       "ship-city                33\n",
       "ship-state               33\n",
       "ship-postal-code         33\n",
       "ship-country             33\n",
       "promotion-ids         49153\n",
       "B2B                       0\n",
       "fulfilled-by          89698\n",
       "Unnamed: 22           49050\n",
       "dtype: int64"
      ]
     },
     "execution_count": 46,
     "metadata": {},
     "output_type": "execute_result"
    }
   ],
   "source": [
    "df.isna().sum()"
   ]
  },
  {
   "cell_type": "code",
   "execution_count": 47,
   "metadata": {},
   "outputs": [],
   "source": [
    "#Drop Rows with Missing Values\n",
    "cleaned_df= df.dropna()"
   ]
  },
  {
   "cell_type": "code",
   "execution_count": 48,
   "metadata": {},
   "outputs": [
    {
     "data": {
      "text/html": [
       "<div>\n",
       "<style scoped>\n",
       "    .dataframe tbody tr th:only-of-type {\n",
       "        vertical-align: middle;\n",
       "    }\n",
       "\n",
       "    .dataframe tbody tr th {\n",
       "        vertical-align: top;\n",
       "    }\n",
       "\n",
       "    .dataframe thead th {\n",
       "        text-align: right;\n",
       "    }\n",
       "</style>\n",
       "<table border=\"1\" class=\"dataframe\">\n",
       "  <thead>\n",
       "    <tr style=\"text-align: right;\">\n",
       "      <th></th>\n",
       "      <th>index</th>\n",
       "      <th>Qty</th>\n",
       "      <th>Amount</th>\n",
       "      <th>ship-postal-code</th>\n",
       "    </tr>\n",
       "  </thead>\n",
       "  <tbody>\n",
       "    <tr>\n",
       "      <th>count</th>\n",
       "      <td>19379.000000</td>\n",
       "      <td>19379.000000</td>\n",
       "      <td>19379.000000</td>\n",
       "      <td>19379.000000</td>\n",
       "    </tr>\n",
       "    <tr>\n",
       "      <th>mean</th>\n",
       "      <td>86650.405542</td>\n",
       "      <td>1.004799</td>\n",
       "      <td>673.245162</td>\n",
       "      <td>464618.933743</td>\n",
       "    </tr>\n",
       "    <tr>\n",
       "      <th>std</th>\n",
       "      <td>22204.535858</td>\n",
       "      <td>0.082081</td>\n",
       "      <td>287.866514</td>\n",
       "      <td>191536.937504</td>\n",
       "    </tr>\n",
       "    <tr>\n",
       "      <th>min</th>\n",
       "      <td>49051.000000</td>\n",
       "      <td>1.000000</td>\n",
       "      <td>0.000000</td>\n",
       "      <td>110001.000000</td>\n",
       "    </tr>\n",
       "    <tr>\n",
       "      <th>25%</th>\n",
       "      <td>67813.000000</td>\n",
       "      <td>1.000000</td>\n",
       "      <td>471.000000</td>\n",
       "      <td>380058.000000</td>\n",
       "    </tr>\n",
       "    <tr>\n",
       "      <th>50%</th>\n",
       "      <td>83317.000000</td>\n",
       "      <td>1.000000</td>\n",
       "      <td>678.000000</td>\n",
       "      <td>500032.000000</td>\n",
       "    </tr>\n",
       "    <tr>\n",
       "      <th>75%</th>\n",
       "      <td>105153.500000</td>\n",
       "      <td>1.000000</td>\n",
       "      <td>786.000000</td>\n",
       "      <td>600039.000000</td>\n",
       "    </tr>\n",
       "    <tr>\n",
       "      <th>max</th>\n",
       "      <td>128891.000000</td>\n",
       "      <td>5.000000</td>\n",
       "      <td>2796.000000</td>\n",
       "      <td>855107.000000</td>\n",
       "    </tr>\n",
       "  </tbody>\n",
       "</table>\n",
       "</div>"
      ],
      "text/plain": [
       "               index           Qty        Amount  ship-postal-code\n",
       "count   19379.000000  19379.000000  19379.000000      19379.000000\n",
       "mean    86650.405542      1.004799    673.245162     464618.933743\n",
       "std     22204.535858      0.082081    287.866514     191536.937504\n",
       "min     49051.000000      1.000000      0.000000     110001.000000\n",
       "25%     67813.000000      1.000000    471.000000     380058.000000\n",
       "50%     83317.000000      1.000000    678.000000     500032.000000\n",
       "75%    105153.500000      1.000000    786.000000     600039.000000\n",
       "max    128891.000000      5.000000   2796.000000     855107.000000"
      ]
     },
     "execution_count": 48,
     "metadata": {},
     "output_type": "execute_result"
    }
   ],
   "source": [
    "cleaned_df.describe()"
   ]
  },
  {
   "cell_type": "code",
   "execution_count": 49,
   "metadata": {
    "id": "oUBee-LPytkv"
   },
   "outputs": [],
   "source": [
    "# Validate the cleaning was successful"
   ]
  },
  {
   "cell_type": "markdown",
   "metadata": {},
   "source": [
    "*Check for Remaining Missing Values:*"
   ]
  },
  {
   "cell_type": "code",
   "execution_count": 50,
   "metadata": {},
   "outputs": [],
   "source": [
    "#For amazon review dataset: Check programmatically that number of NA values is 0\n",
    "assert cleaned_df.isnull().sum().sum() == 0"
   ]
  },
  {
   "cell_type": "code",
   "execution_count": 51,
   "metadata": {},
   "outputs": [],
   "source": [
    "# Calculate the total number of null values in the dataset\n",
    "total_nulls = cleaned_df.isnull().sum().sum()"
   ]
  },
  {
   "cell_type": "code",
   "execution_count": 52,
   "metadata": {},
   "outputs": [
    {
     "name": "stdout",
     "output_type": "stream",
     "text": [
      "The dataset has no null values.\n"
     ]
    }
   ],
   "source": [
    "# Check if the total number of null values is zero\n",
    "if total_nulls == 0:\n",
    "    print(\"The dataset has no null values.\")\n",
    "else:\n",
    "    print(f\"The dataset has {total_nulls} null values.\")"
   ]
  },
  {
   "cell_type": "code",
   "execution_count": 53,
   "metadata": {},
   "outputs": [
    {
     "data": {
      "image/png": "[encoded data removed]",
      "text/plain": [
       "<Figure size 640x480 with 2 Axes>"
      ]
     },
     "metadata": {},
     "output_type": "display_data"
    }
   ],
   "source": [
    "sns.heatmap(cleaned_df.isna().transpose(),\n",
    "            cbar_kws={'label': 'Heatmap after dealing with Missing Data'}); "
   ]
  },
  {
   "cell_type": "markdown",
   "metadata": {},
   "source": [
    "**Justification:** I choose to drop the rows with null values to maintain data integrity and ensure the dataset is complete enough for analysis.    \n",
    "Handling missing values improves the dataset's overall quality, making it more reliable for generating insights and making informed decisions. Ensuring that the dataset is complete also facilitates better visualization and reporting, providing a clearer and more accurate representation of the data."
   ]
  },
  {
   "cell_type": "markdown",
   "metadata": {
    "id": "n_DAUbJrymBL"
   },
   "source": [
    "### **Quality Issue 2:Outliers**"
   ]
  },
  {
   "cell_type": "code",
   "execution_count": 54,
   "metadata": {
    "id": "5Yfb-Yu5MTuE"
   },
   "outputs": [],
   "source": [
    "# Apply the cleaning strategy"
   ]
  },
  {
   "cell_type": "code",
   "execution_count": 55,
   "metadata": {
    "scrolled": true
   },
   "outputs": [
    {
     "data": {
      "text/html": [
       "<div>\n",
       "<style scoped>\n",
       "    .dataframe tbody tr th:only-of-type {\n",
       "        vertical-align: middle;\n",
       "    }\n",
       "\n",
       "    .dataframe tbody tr th {\n",
       "        vertical-align: top;\n",
       "    }\n",
       "\n",
       "    .dataframe thead th {\n",
       "        text-align: right;\n",
       "    }\n",
       "</style>\n",
       "<table border=\"1\" class=\"dataframe\">\n",
       "  <thead>\n",
       "    <tr style=\"text-align: right;\">\n",
       "      <th></th>\n",
       "      <th>index</th>\n",
       "      <th>Stock</th>\n",
       "    </tr>\n",
       "  </thead>\n",
       "  <tbody>\n",
       "    <tr>\n",
       "      <th>count</th>\n",
       "      <td>9271.000000</td>\n",
       "      <td>9235.000000</td>\n",
       "    </tr>\n",
       "    <tr>\n",
       "      <th>mean</th>\n",
       "      <td>4635.000000</td>\n",
       "      <td>26.246454</td>\n",
       "    </tr>\n",
       "    <tr>\n",
       "      <th>std</th>\n",
       "      <td>2676.451507</td>\n",
       "      <td>58.462891</td>\n",
       "    </tr>\n",
       "    <tr>\n",
       "      <th>min</th>\n",
       "      <td>0.000000</td>\n",
       "      <td>0.000000</td>\n",
       "    </tr>\n",
       "    <tr>\n",
       "      <th>25%</th>\n",
       "      <td>2317.500000</td>\n",
       "      <td>3.000000</td>\n",
       "    </tr>\n",
       "    <tr>\n",
       "      <th>50%</th>\n",
       "      <td>4635.000000</td>\n",
       "      <td>8.000000</td>\n",
       "    </tr>\n",
       "    <tr>\n",
       "      <th>75%</th>\n",
       "      <td>6952.500000</td>\n",
       "      <td>31.000000</td>\n",
       "    </tr>\n",
       "    <tr>\n",
       "      <th>max</th>\n",
       "      <td>9270.000000</td>\n",
       "      <td>1234.000000</td>\n",
       "    </tr>\n",
       "  </tbody>\n",
       "</table>\n",
       "</div>"
      ],
      "text/plain": [
       "             index        Stock\n",
       "count  9271.000000  9235.000000\n",
       "mean   4635.000000    26.246454\n",
       "std    2676.451507    58.462891\n",
       "min       0.000000     0.000000\n",
       "25%    2317.500000     3.000000\n",
       "50%    4635.000000     8.000000\n",
       "75%    6952.500000    31.000000\n",
       "max    9270.000000  1234.000000"
      ]
     },
     "execution_count": 55,
     "metadata": {},
     "output_type": "execute_result"
    }
   ],
   "source": [
    "df2.describe()"
   ]
  },
  {
   "cell_type": "code",
   "execution_count": 56,
   "metadata": {
    "scrolled": true
   },
   "outputs": [
    {
     "data": {
      "text/plain": [
       "5245    0.0\n",
       "730     0.0\n",
       "5158    0.0\n",
       "5160    0.0\n",
       "1527    0.0\n",
       "       ... \n",
       "9266    NaN\n",
       "9267    NaN\n",
       "9268    NaN\n",
       "9269    NaN\n",
       "9270    NaN\n",
       "Name: Stock, Length: 9271, dtype: float64"
      ]
     },
     "execution_count": 56,
     "metadata": {},
     "output_type": "execute_result"
    }
   ],
   "source": [
    "df2.Stock.sort_values()"
   ]
  },
  {
   "cell_type": "code",
   "execution_count": 57,
   "metadata": {},
   "outputs": [],
   "source": [
    "cleaned_df2 = df2.dropna()"
   ]
  },
  {
   "cell_type": "code",
   "execution_count": 58,
   "metadata": {},
   "outputs": [
    {
     "data": {
      "text/html": [
       "<div>\n",
       "<style scoped>\n",
       "    .dataframe tbody tr th:only-of-type {\n",
       "        vertical-align: middle;\n",
       "    }\n",
       "\n",
       "    .dataframe tbody tr th {\n",
       "        vertical-align: top;\n",
       "    }\n",
       "\n",
       "    .dataframe thead th {\n",
       "        text-align: right;\n",
       "    }\n",
       "</style>\n",
       "<table border=\"1\" class=\"dataframe\">\n",
       "  <thead>\n",
       "    <tr style=\"text-align: right;\">\n",
       "      <th></th>\n",
       "      <th>index</th>\n",
       "      <th>SKU Code</th>\n",
       "      <th>Design No.</th>\n",
       "      <th>Stock</th>\n",
       "      <th>Category</th>\n",
       "      <th>Size</th>\n",
       "      <th>Color</th>\n",
       "    </tr>\n",
       "  </thead>\n",
       "  <tbody>\n",
       "    <tr>\n",
       "      <th>0</th>\n",
       "      <td>0</td>\n",
       "      <td>AN201-RED-L</td>\n",
       "      <td>AN201</td>\n",
       "      <td>5.0</td>\n",
       "      <td>AN : LEGGINGS</td>\n",
       "      <td>L</td>\n",
       "      <td>Red</td>\n",
       "    </tr>\n",
       "    <tr>\n",
       "      <th>1</th>\n",
       "      <td>1</td>\n",
       "      <td>AN201-RED-M</td>\n",
       "      <td>AN201</td>\n",
       "      <td>5.0</td>\n",
       "      <td>AN : LEGGINGS</td>\n",
       "      <td>M</td>\n",
       "      <td>Red</td>\n",
       "    </tr>\n",
       "    <tr>\n",
       "      <th>2</th>\n",
       "      <td>2</td>\n",
       "      <td>AN201-RED-S</td>\n",
       "      <td>AN201</td>\n",
       "      <td>3.0</td>\n",
       "      <td>AN : LEGGINGS</td>\n",
       "      <td>S</td>\n",
       "      <td>Red</td>\n",
       "    </tr>\n",
       "    <tr>\n",
       "      <th>3</th>\n",
       "      <td>3</td>\n",
       "      <td>AN201-RED-XL</td>\n",
       "      <td>AN201</td>\n",
       "      <td>6.0</td>\n",
       "      <td>AN : LEGGINGS</td>\n",
       "      <td>XL</td>\n",
       "      <td>Red</td>\n",
       "    </tr>\n",
       "    <tr>\n",
       "      <th>4</th>\n",
       "      <td>4</td>\n",
       "      <td>AN201-RED-XXL</td>\n",
       "      <td>AN201</td>\n",
       "      <td>3.0</td>\n",
       "      <td>AN : LEGGINGS</td>\n",
       "      <td>XXL</td>\n",
       "      <td>Red</td>\n",
       "    </tr>\n",
       "    <tr>\n",
       "      <th>...</th>\n",
       "      <td>...</td>\n",
       "      <td>...</td>\n",
       "      <td>...</td>\n",
       "      <td>...</td>\n",
       "      <td>...</td>\n",
       "      <td>...</td>\n",
       "      <td>...</td>\n",
       "    </tr>\n",
       "    <tr>\n",
       "      <th>9230</th>\n",
       "      <td>9230</td>\n",
       "      <td>SET462-KR-NP-S</td>\n",
       "      <td>SET462</td>\n",
       "      <td>44.0</td>\n",
       "      <td>SET</td>\n",
       "      <td>S</td>\n",
       "      <td>Teal</td>\n",
       "    </tr>\n",
       "    <tr>\n",
       "      <th>9231</th>\n",
       "      <td>9231</td>\n",
       "      <td>SET462-KR-NP-XL</td>\n",
       "      <td>SET462</td>\n",
       "      <td>58.0</td>\n",
       "      <td>SET</td>\n",
       "      <td>XL</td>\n",
       "      <td>Teal</td>\n",
       "    </tr>\n",
       "    <tr>\n",
       "      <th>9232</th>\n",
       "      <td>9232</td>\n",
       "      <td>SET462-KR-NP-XS</td>\n",
       "      <td>SET462</td>\n",
       "      <td>20.0</td>\n",
       "      <td>SET</td>\n",
       "      <td>XS</td>\n",
       "      <td>Teal</td>\n",
       "    </tr>\n",
       "    <tr>\n",
       "      <th>9233</th>\n",
       "      <td>9233</td>\n",
       "      <td>SET462-KR-NP-XXL</td>\n",
       "      <td>SET462</td>\n",
       "      <td>66.0</td>\n",
       "      <td>SET</td>\n",
       "      <td>XXL</td>\n",
       "      <td>Teal</td>\n",
       "    </tr>\n",
       "    <tr>\n",
       "      <th>9234</th>\n",
       "      <td>9234</td>\n",
       "      <td>SET462-KR-NP-XXXL</td>\n",
       "      <td>SET462</td>\n",
       "      <td>40.0</td>\n",
       "      <td>SET</td>\n",
       "      <td>XXXL</td>\n",
       "      <td>Teal</td>\n",
       "    </tr>\n",
       "  </tbody>\n",
       "</table>\n",
       "<p>9188 rows × 7 columns</p>\n",
       "</div>"
      ],
      "text/plain": [
       "      index           SKU Code Design No.  Stock       Category  Size Color\n",
       "0         0        AN201-RED-L      AN201    5.0  AN : LEGGINGS     L   Red\n",
       "1         1        AN201-RED-M      AN201    5.0  AN : LEGGINGS     M   Red\n",
       "2         2        AN201-RED-S      AN201    3.0  AN : LEGGINGS     S   Red\n",
       "3         3       AN201-RED-XL      AN201    6.0  AN : LEGGINGS    XL   Red\n",
       "4         4      AN201-RED-XXL      AN201    3.0  AN : LEGGINGS   XXL   Red\n",
       "...     ...                ...        ...    ...            ...   ...   ...\n",
       "9230   9230     SET462-KR-NP-S     SET462   44.0            SET     S  Teal\n",
       "9231   9231    SET462-KR-NP-XL     SET462   58.0            SET    XL  Teal\n",
       "9232   9232    SET462-KR-NP-XS     SET462   20.0            SET    XS  Teal\n",
       "9233   9233   SET462-KR-NP-XXL     SET462   66.0            SET   XXL  Teal\n",
       "9234   9234  SET462-KR-NP-XXXL     SET462   40.0            SET  XXXL  Teal\n",
       "\n",
       "[9188 rows x 7 columns]"
      ]
     },
     "execution_count": 58,
     "metadata": {},
     "output_type": "execute_result"
    }
   ],
   "source": [
    "cleaned_df2 "
   ]
  },
  {
   "cell_type": "markdown",
   "metadata": {},
   "source": [
    " *Remove outliers entirely from the dataset*"
   ]
  },
  {
   "cell_type": "code",
   "execution_count": 59,
   "metadata": {},
   "outputs": [
    {
     "name": "stdout",
     "output_type": "stream",
     "text": [
      "Original Dataset:\n",
      "      index       SKU Code Design No.  Stock       Category Size Color\n",
      "0         0    AN201-RED-L      AN201    5.0  AN : LEGGINGS    L   Red\n",
      "1         1    AN201-RED-M      AN201    5.0  AN : LEGGINGS    M   Red\n",
      "2         2    AN201-RED-S      AN201    3.0  AN : LEGGINGS    S   Red\n",
      "3         3   AN201-RED-XL      AN201    6.0  AN : LEGGINGS   XL   Red\n",
      "4         4  AN201-RED-XXL      AN201    3.0  AN : LEGGINGS  XXL   Red\n",
      "...     ...            ...        ...    ...            ...  ...   ...\n",
      "9266   9266            NaN        NaN    NaN            NaN  NaN   NaN\n",
      "9267   9267            NaN        NaN    NaN            NaN  NaN   NaN\n",
      "9268   9268            NaN        NaN    NaN            NaN  NaN   NaN\n",
      "9269   9269            NaN        NaN    NaN            NaN  NaN   NaN\n",
      "9270   9270            NaN        NaN    NaN            NaN  NaN   NaN\n",
      "\n",
      "[9271 rows x 7 columns]\n",
      "\n",
      "cleaned Dataset without outliers:\n",
      "      index           SKU Code Design No.  Stock       Category  Size  Color\n",
      "0         0        AN201-RED-L      AN201    5.0  AN : LEGGINGS     L    Red\n",
      "1         1        AN201-RED-M      AN201    5.0  AN : LEGGINGS     M    Red\n",
      "2         2        AN201-RED-S      AN201    3.0  AN : LEGGINGS     S    Red\n",
      "3         3       AN201-RED-XL      AN201    6.0  AN : LEGGINGS    XL    Red\n",
      "4         4      AN201-RED-XXL      AN201    3.0  AN : LEGGINGS   XXL    Red\n",
      "...     ...                ...        ...    ...            ...   ...    ...\n",
      "9190   9190    SET444-KR-SH-XS     SET444   17.0            SET    XS  Peach\n",
      "9191   9191   SET444-KR-SH-XXL     SET444   12.0            SET   XXL  Peach\n",
      "9192   9192  SET444-KR-SH-XXXL     SET444   17.0            SET  XXXL  Peach\n",
      "9200   9200     SET446-KR-NP-L     SET446   17.0            SET     L   Teal\n",
      "9232   9232    SET462-KR-NP-XS     SET462   20.0            SET    XS   Teal\n",
      "\n",
      "[4751 rows x 7 columns]\n"
     ]
    }
   ],
   "source": [
    "# Calculate Q1 (25th percentile) and Q3 (75th percentile)\n",
    "Q1 = df2['Stock'].quantile(0.25)\n",
    "Q3 = df2['Stock'].quantile(0.75)\n",
    "\n",
    "# Calculate IQR\n",
    "IQR = Q3 - Q1\n",
    "\n",
    "# Define outlier bounds\n",
    "lower_bound = Q1 - 0 * IQR\n",
    "upper_bound = Q3 + 0 * IQR\n",
    "\n",
    "# Filter out the outliers\n",
    "cleaned_df2 = df2[(df2['Stock'] >= lower_bound) & (df2['Stock'] <= upper_bound)]\n",
    "\n",
    "print(\"Original Dataset:\")\n",
    "print(df2)\n",
    "print(\"\\ncleaned Dataset without outliers:\")\n",
    "print(cleaned_df2)\n"
   ]
  },
  {
   "cell_type": "code",
   "execution_count": 60,
   "metadata": {
    "id": "ionB2sRaMUmY"
   },
   "outputs": [],
   "source": [
    "#Validate the cleaning was successful"
   ]
  },
  {
   "cell_type": "code",
   "execution_count": 61,
   "metadata": {
    "scrolled": true
   },
   "outputs": [
    {
     "data": {
      "image/png": "[encoded data removed]",
      "text/plain": [
       "<Figure size 640x480 with 1 Axes>"
      ]
     },
     "metadata": {},
     "output_type": "display_data"
    }
   ],
   "source": [
    "plt.boxplot(cleaned_df2['Stock'])\n",
    "plt.show()"
   ]
  },
  {
   "cell_type": "markdown",
   "metadata": {},
   "source": [
    "It does not appear that there are any obvious outliers present.Because,there is no data points plotted as individual dots."
   ]
  },
  {
   "cell_type": "markdown",
   "metadata": {},
   "source": [
    "**Justification:**  Removing outliers ensures that decisions are based on typical and relevant data."
   ]
  },
  {
   "cell_type": "markdown",
   "metadata": {
    "id": "bIUrrfSNyOPR"
   },
   "source": [
    "### **Tidiness Issue 1: Multiple variables stored in one column**"
   ]
  },
  {
   "cell_type": "code",
   "execution_count": 62,
   "metadata": {
    "id": "fib0zAm333bn"
   },
   "outputs": [],
   "source": [
    "#Apply the cleaning strategy"
   ]
  },
  {
   "cell_type": "markdown",
   "metadata": {},
   "source": [
    "Tidiness Issue 1.1"
   ]
  },
  {
   "cell_type": "code",
   "execution_count": 63,
   "metadata": {},
   "outputs": [
    {
     "name": "stderr",
     "output_type": "stream",
     "text": [
      "C:\\Users\\user\\AppData\\Local\\Temp\\ipykernel_10552\\318342818.py:30: SettingWithCopyWarning: \n",
      "A value is trying to be set on a copy of a slice from a DataFrame.\n",
      "Try using .loc[row_indexer,col_indexer] = value instead\n",
      "\n",
      "See the caveats in the documentation: https://pandas.pydata.org/pandas-docs/stable/user_guide/indexing.html#returning-a-view-versus-a-copy\n",
      "  cleaned_df['SKU_Cleaned'] = cleaned_df['SKU'].apply(remove_size_indicators)\n"
     ]
    }
   ],
   "source": [
    "import re\n",
    "\n",
    "def remove_size_indicators(sku_string):\n",
    "    \"\"\"\n",
    "    Remove size indicators from the SKU string, retaining other parts.\n",
    "    Size indicators are: 'XS', 'S', 'M', 'L', 'XL', 'XXL', 'XXXL', 'XXS','XXXS','FREE'.\n",
    "    \n",
    "    Args:\n",
    "    sku_string (str): The SKU string.\n",
    "    \n",
    "    Returns:\n",
    "    str: The SKU string with size indicators removed.\n",
    "    \"\"\"\n",
    "    # List of size indicators to remove\n",
    "    size_indicators = ['XS', 'S', 'M', 'L', 'XL', 'XXL', 'XXXL', 'XXS','XXXS','FREE']\n",
    "    \n",
    "    # Create a regular expression pattern to match size indicators\n",
    "    size_pattern = '|'.join(size_indicators)\n",
    "    \n",
    "    # Use regex to replace size indicators with an empty string\n",
    "    cleaned_sku = re.sub(size_pattern, '', sku_string, flags=re.IGNORECASE)\n",
    "    \n",
    "    # Remove extra dashes or spaces that may be left after removal\n",
    "    cleaned_sku = re.sub(r'-+', '-', cleaned_sku).strip('-')\n",
    "    \n",
    "    return cleaned_sku\n",
    "\n",
    "\n",
    "# Apply the function to the \"SKU\" column and create a new column \"SKU_Cleaned\"\n",
    "cleaned_df['SKU_Cleaned'] = cleaned_df['SKU'].apply(remove_size_indicators)"
   ]
  },
  {
   "cell_type": "code",
   "execution_count": 64,
   "metadata": {},
   "outputs": [],
   "source": [
    "#Validate the cleaning was successful"
   ]
  },
  {
   "cell_type": "code",
   "execution_count": 65,
   "metadata": {},
   "outputs": [
    {
     "name": "stdout",
     "output_type": "stream",
     "text": [
      "                   SKU SKU_Cleaned\n",
      "49051       J0385-KR-M    J0385-KR\n",
      "49077   JNE3654-TP-XXL  JNE3654-TP\n",
      "49081    JNE3798-KR-XS  JNE3798-KR\n",
      "49082       J0152-DR-L    J0152-DR\n",
      "49083      J0157-DR-XL    J0157-DR\n",
      "...                ...         ...\n",
      "128872      J0243-DR-S    J0243-DR\n",
      "128873     J0079-SKD-S    J0079-KD\n",
      "128874     J0009-SKD-S    J0009-KD\n",
      "128887      J0301-TP-M    J0301-TP\n",
      "128891    JNE3869-DR-M  JNE3869-DR\n",
      "\n",
      "[19379 rows x 2 columns]\n"
     ]
    }
   ],
   "source": [
    "print(cleaned_df[['SKU', 'SKU_Cleaned']])"
   ]
  },
  {
   "cell_type": "markdown",
   "metadata": {},
   "source": [
    "Tidiness Issue 1.2"
   ]
  },
  {
   "cell_type": "code",
   "execution_count": 66,
   "metadata": {
    "scrolled": true
   },
   "outputs": [
    {
     "name": "stderr",
     "output_type": "stream",
     "text": [
      "C:\\Users\\user\\AppData\\Local\\Temp\\ipykernel_10552\\3245916563.py:2: SettingWithCopyWarning: \n",
      "A value is trying to be set on a copy of a slice from a DataFrame.\n",
      "Try using .loc[row_indexer,col_indexer] = value instead\n",
      "\n",
      "See the caveats in the documentation: https://pandas.pydata.org/pandas-docs/stable/user_guide/indexing.html#returning-a-view-versus-a-copy\n",
      "  cleaned_df[['shippment Status', 'Delivery status']] = cleaned_df['Status'].str.split('-',n=1, expand=True)\n",
      "C:\\Users\\user\\AppData\\Local\\Temp\\ipykernel_10552\\3245916563.py:2: SettingWithCopyWarning: \n",
      "A value is trying to be set on a copy of a slice from a DataFrame.\n",
      "Try using .loc[row_indexer,col_indexer] = value instead\n",
      "\n",
      "See the caveats in the documentation: https://pandas.pydata.org/pandas-docs/stable/user_guide/indexing.html#returning-a-view-versus-a-copy\n",
      "  cleaned_df[['shippment Status', 'Delivery status']] = cleaned_df['Status'].str.split('-',n=1, expand=True)\n"
     ]
    },
    {
     "data": {
      "text/html": [
       "<div>\n",
       "<style scoped>\n",
       "    .dataframe tbody tr th:only-of-type {\n",
       "        vertical-align: middle;\n",
       "    }\n",
       "\n",
       "    .dataframe tbody tr th {\n",
       "        vertical-align: top;\n",
       "    }\n",
       "\n",
       "    .dataframe thead th {\n",
       "        text-align: right;\n",
       "    }\n",
       "</style>\n",
       "<table border=\"1\" class=\"dataframe\">\n",
       "  <thead>\n",
       "    <tr style=\"text-align: right;\">\n",
       "      <th></th>\n",
       "      <th>index</th>\n",
       "      <th>Order ID</th>\n",
       "      <th>Date</th>\n",
       "      <th>Status</th>\n",
       "      <th>Fulfilment</th>\n",
       "      <th>Sales Channel</th>\n",
       "      <th>ship-service-level</th>\n",
       "      <th>Style</th>\n",
       "      <th>SKU</th>\n",
       "      <th>Category</th>\n",
       "      <th>...</th>\n",
       "      <th>ship-state</th>\n",
       "      <th>ship-postal-code</th>\n",
       "      <th>ship-country</th>\n",
       "      <th>promotion-ids</th>\n",
       "      <th>B2B</th>\n",
       "      <th>fulfilled-by</th>\n",
       "      <th>Unnamed: 22</th>\n",
       "      <th>SKU_Cleaned</th>\n",
       "      <th>shippment Status</th>\n",
       "      <th>Delivery status</th>\n",
       "    </tr>\n",
       "  </thead>\n",
       "  <tbody>\n",
       "    <tr>\n",
       "      <th>49051</th>\n",
       "      <td>49051</td>\n",
       "      <td>408-4858463-2356347</td>\n",
       "      <td>05-31-22</td>\n",
       "      <td>Shipped - Delivered to Buyer</td>\n",
       "      <td>Merchant</td>\n",
       "      <td>Amazon.in</td>\n",
       "      <td>Standard</td>\n",
       "      <td>J0385</td>\n",
       "      <td>J0385-KR-M</td>\n",
       "      <td>kurta</td>\n",
       "      <td>...</td>\n",
       "      <td>ANDHRA PRADESH</td>\n",
       "      <td>533126.0</td>\n",
       "      <td>IN</td>\n",
       "      <td>Amazon PLCC Free-Financing Universal Merchant ...</td>\n",
       "      <td>False</td>\n",
       "      <td>Easy Ship</td>\n",
       "      <td>False</td>\n",
       "      <td>J0385-KR</td>\n",
       "      <td>Shipped</td>\n",
       "      <td>Delivered to Buyer</td>\n",
       "    </tr>\n",
       "    <tr>\n",
       "      <th>49077</th>\n",
       "      <td>49077</td>\n",
       "      <td>402-7697834-2682766</td>\n",
       "      <td>05-31-22</td>\n",
       "      <td>Shipped - Delivered to Buyer</td>\n",
       "      <td>Merchant</td>\n",
       "      <td>Amazon.in</td>\n",
       "      <td>Standard</td>\n",
       "      <td>JNE3654</td>\n",
       "      <td>JNE3654-TP-XXL</td>\n",
       "      <td>Top</td>\n",
       "      <td>...</td>\n",
       "      <td>TAMIL NADU</td>\n",
       "      <td>600042.0</td>\n",
       "      <td>IN</td>\n",
       "      <td>Amazon PLCC Free-Financing Universal Merchant ...</td>\n",
       "      <td>False</td>\n",
       "      <td>Easy Ship</td>\n",
       "      <td>False</td>\n",
       "      <td>JNE3654-TP</td>\n",
       "      <td>Shipped</td>\n",
       "      <td>Delivered to Buyer</td>\n",
       "    </tr>\n",
       "    <tr>\n",
       "      <th>49081</th>\n",
       "      <td>49081</td>\n",
       "      <td>402-7031777-0396341</td>\n",
       "      <td>05-31-22</td>\n",
       "      <td>Shipped - Delivered to Buyer</td>\n",
       "      <td>Merchant</td>\n",
       "      <td>Amazon.in</td>\n",
       "      <td>Standard</td>\n",
       "      <td>JNE3798</td>\n",
       "      <td>JNE3798-KR-XS</td>\n",
       "      <td>Western Dress</td>\n",
       "      <td>...</td>\n",
       "      <td>KERALA</td>\n",
       "      <td>695541.0</td>\n",
       "      <td>IN</td>\n",
       "      <td>Amazon PLCC Free-Financing Universal Merchant ...</td>\n",
       "      <td>False</td>\n",
       "      <td>Easy Ship</td>\n",
       "      <td>False</td>\n",
       "      <td>JNE3798-KR</td>\n",
       "      <td>Shipped</td>\n",
       "      <td>Delivered to Buyer</td>\n",
       "    </tr>\n",
       "    <tr>\n",
       "      <th>49082</th>\n",
       "      <td>49082</td>\n",
       "      <td>408-1235521-4337163</td>\n",
       "      <td>05-31-22</td>\n",
       "      <td>Shipped - Delivered to Buyer</td>\n",
       "      <td>Merchant</td>\n",
       "      <td>Amazon.in</td>\n",
       "      <td>Standard</td>\n",
       "      <td>J0152</td>\n",
       "      <td>J0152-DR-L</td>\n",
       "      <td>Western Dress</td>\n",
       "      <td>...</td>\n",
       "      <td>JAMMU &amp; KASHMIR</td>\n",
       "      <td>194101.0</td>\n",
       "      <td>IN</td>\n",
       "      <td>Amazon PLCC Free-Financing Universal Merchant ...</td>\n",
       "      <td>False</td>\n",
       "      <td>Easy Ship</td>\n",
       "      <td>False</td>\n",
       "      <td>J0152-DR</td>\n",
       "      <td>Shipped</td>\n",
       "      <td>Delivered to Buyer</td>\n",
       "    </tr>\n",
       "    <tr>\n",
       "      <th>49083</th>\n",
       "      <td>49083</td>\n",
       "      <td>403-3845187-4421165</td>\n",
       "      <td>05-31-22</td>\n",
       "      <td>Shipped - Delivered to Buyer</td>\n",
       "      <td>Merchant</td>\n",
       "      <td>Amazon.in</td>\n",
       "      <td>Standard</td>\n",
       "      <td>J0157</td>\n",
       "      <td>J0157-DR-XL</td>\n",
       "      <td>Western Dress</td>\n",
       "      <td>...</td>\n",
       "      <td>MAHARASHTRA</td>\n",
       "      <td>411027.0</td>\n",
       "      <td>IN</td>\n",
       "      <td>Amazon PLCC Free-Financing Universal Merchant ...</td>\n",
       "      <td>False</td>\n",
       "      <td>Easy Ship</td>\n",
       "      <td>False</td>\n",
       "      <td>J0157-DR</td>\n",
       "      <td>Shipped</td>\n",
       "      <td>Delivered to Buyer</td>\n",
       "    </tr>\n",
       "    <tr>\n",
       "      <th>...</th>\n",
       "      <td>...</td>\n",
       "      <td>...</td>\n",
       "      <td>...</td>\n",
       "      <td>...</td>\n",
       "      <td>...</td>\n",
       "      <td>...</td>\n",
       "      <td>...</td>\n",
       "      <td>...</td>\n",
       "      <td>...</td>\n",
       "      <td>...</td>\n",
       "      <td>...</td>\n",
       "      <td>...</td>\n",
       "      <td>...</td>\n",
       "      <td>...</td>\n",
       "      <td>...</td>\n",
       "      <td>...</td>\n",
       "      <td>...</td>\n",
       "      <td>...</td>\n",
       "      <td>...</td>\n",
       "      <td>...</td>\n",
       "      <td>...</td>\n",
       "    </tr>\n",
       "    <tr>\n",
       "      <th>128872</th>\n",
       "      <td>128872</td>\n",
       "      <td>405-4724097-1016369</td>\n",
       "      <td>06-01-22</td>\n",
       "      <td>Shipped - Delivered to Buyer</td>\n",
       "      <td>Merchant</td>\n",
       "      <td>Amazon.in</td>\n",
       "      <td>Standard</td>\n",
       "      <td>J0243</td>\n",
       "      <td>J0243-DR-S</td>\n",
       "      <td>Ethnic Dress</td>\n",
       "      <td>...</td>\n",
       "      <td>ANDHRA PRADESH</td>\n",
       "      <td>524315.0</td>\n",
       "      <td>IN</td>\n",
       "      <td>Amazon PLCC Free-Financing Universal Merchant ...</td>\n",
       "      <td>False</td>\n",
       "      <td>Easy Ship</td>\n",
       "      <td>False</td>\n",
       "      <td>J0243-DR</td>\n",
       "      <td>Shipped</td>\n",
       "      <td>Delivered to Buyer</td>\n",
       "    </tr>\n",
       "    <tr>\n",
       "      <th>128873</th>\n",
       "      <td>128873</td>\n",
       "      <td>405-4724097-1016369</td>\n",
       "      <td>06-01-22</td>\n",
       "      <td>Shipped - Delivered to Buyer</td>\n",
       "      <td>Merchant</td>\n",
       "      <td>Amazon.in</td>\n",
       "      <td>Standard</td>\n",
       "      <td>J0079</td>\n",
       "      <td>J0079-SKD-S</td>\n",
       "      <td>Set</td>\n",
       "      <td>...</td>\n",
       "      <td>ANDHRA PRADESH</td>\n",
       "      <td>524315.0</td>\n",
       "      <td>IN</td>\n",
       "      <td>Amazon PLCC Free-Financing Universal Merchant ...</td>\n",
       "      <td>False</td>\n",
       "      <td>Easy Ship</td>\n",
       "      <td>False</td>\n",
       "      <td>J0079-KD</td>\n",
       "      <td>Shipped</td>\n",
       "      <td>Delivered to Buyer</td>\n",
       "    </tr>\n",
       "    <tr>\n",
       "      <th>128874</th>\n",
       "      <td>128874</td>\n",
       "      <td>405-4724097-1016369</td>\n",
       "      <td>06-01-22</td>\n",
       "      <td>Shipped - Delivered to Buyer</td>\n",
       "      <td>Merchant</td>\n",
       "      <td>Amazon.in</td>\n",
       "      <td>Standard</td>\n",
       "      <td>J0009</td>\n",
       "      <td>J0009-SKD-S</td>\n",
       "      <td>Set</td>\n",
       "      <td>...</td>\n",
       "      <td>ANDHRA PRADESH</td>\n",
       "      <td>524315.0</td>\n",
       "      <td>IN</td>\n",
       "      <td>Amazon PLCC Free-Financing Universal Merchant ...</td>\n",
       "      <td>False</td>\n",
       "      <td>Easy Ship</td>\n",
       "      <td>False</td>\n",
       "      <td>J0009-KD</td>\n",
       "      <td>Shipped</td>\n",
       "      <td>Delivered to Buyer</td>\n",
       "    </tr>\n",
       "    <tr>\n",
       "      <th>128887</th>\n",
       "      <td>128887</td>\n",
       "      <td>405-6493630-8542756</td>\n",
       "      <td>05-31-22</td>\n",
       "      <td>Shipped - Delivered to Buyer</td>\n",
       "      <td>Merchant</td>\n",
       "      <td>Amazon.in</td>\n",
       "      <td>Standard</td>\n",
       "      <td>J0301</td>\n",
       "      <td>J0301-TP-M</td>\n",
       "      <td>Top</td>\n",
       "      <td>...</td>\n",
       "      <td>UTTAR PRADESH</td>\n",
       "      <td>201301.0</td>\n",
       "      <td>IN</td>\n",
       "      <td>Amazon PLCC Free-Financing Universal Merchant ...</td>\n",
       "      <td>False</td>\n",
       "      <td>Easy Ship</td>\n",
       "      <td>False</td>\n",
       "      <td>J0301-TP</td>\n",
       "      <td>Shipped</td>\n",
       "      <td>Delivered to Buyer</td>\n",
       "    </tr>\n",
       "    <tr>\n",
       "      <th>128891</th>\n",
       "      <td>128891</td>\n",
       "      <td>403-0317423-9322704</td>\n",
       "      <td>05-31-22</td>\n",
       "      <td>Shipped - Delivered to Buyer</td>\n",
       "      <td>Merchant</td>\n",
       "      <td>Amazon.in</td>\n",
       "      <td>Standard</td>\n",
       "      <td>JNE3869</td>\n",
       "      <td>JNE3869-DR-M</td>\n",
       "      <td>Western Dress</td>\n",
       "      <td>...</td>\n",
       "      <td>WEST BENGAL</td>\n",
       "      <td>734014.0</td>\n",
       "      <td>IN</td>\n",
       "      <td>Amazon PLCC Free-Financing Universal Merchant ...</td>\n",
       "      <td>False</td>\n",
       "      <td>Easy Ship</td>\n",
       "      <td>False</td>\n",
       "      <td>JNE3869-DR</td>\n",
       "      <td>Shipped</td>\n",
       "      <td>Delivered to Buyer</td>\n",
       "    </tr>\n",
       "  </tbody>\n",
       "</table>\n",
       "<p>19379 rows × 27 columns</p>\n",
       "</div>"
      ],
      "text/plain": [
       "         index             Order ID      Date                        Status  \\\n",
       "49051    49051  408-4858463-2356347  05-31-22  Shipped - Delivered to Buyer   \n",
       "49077    49077  402-7697834-2682766  05-31-22  Shipped - Delivered to Buyer   \n",
       "49081    49081  402-7031777-0396341  05-31-22  Shipped - Delivered to Buyer   \n",
       "49082    49082  408-1235521-4337163  05-31-22  Shipped - Delivered to Buyer   \n",
       "49083    49083  403-3845187-4421165  05-31-22  Shipped - Delivered to Buyer   \n",
       "...        ...                  ...       ...                           ...   \n",
       "128872  128872  405-4724097-1016369  06-01-22  Shipped - Delivered to Buyer   \n",
       "128873  128873  405-4724097-1016369  06-01-22  Shipped - Delivered to Buyer   \n",
       "128874  128874  405-4724097-1016369  06-01-22  Shipped - Delivered to Buyer   \n",
       "128887  128887  405-6493630-8542756  05-31-22  Shipped - Delivered to Buyer   \n",
       "128891  128891  403-0317423-9322704  05-31-22  Shipped - Delivered to Buyer   \n",
       "\n",
       "       Fulfilment Sales Channel  ship-service-level    Style             SKU  \\\n",
       "49051    Merchant      Amazon.in           Standard    J0385      J0385-KR-M   \n",
       "49077    Merchant      Amazon.in           Standard  JNE3654  JNE3654-TP-XXL   \n",
       "49081    Merchant      Amazon.in           Standard  JNE3798   JNE3798-KR-XS   \n",
       "49082    Merchant      Amazon.in           Standard    J0152      J0152-DR-L   \n",
       "49083    Merchant      Amazon.in           Standard    J0157     J0157-DR-XL   \n",
       "...           ...            ...                ...      ...             ...   \n",
       "128872   Merchant      Amazon.in           Standard    J0243      J0243-DR-S   \n",
       "128873   Merchant      Amazon.in           Standard    J0079     J0079-SKD-S   \n",
       "128874   Merchant      Amazon.in           Standard    J0009     J0009-SKD-S   \n",
       "128887   Merchant      Amazon.in           Standard    J0301      J0301-TP-M   \n",
       "128891   Merchant      Amazon.in           Standard  JNE3869    JNE3869-DR-M   \n",
       "\n",
       "             Category  ...       ship-state ship-postal-code ship-country  \\\n",
       "49051           kurta  ...   ANDHRA PRADESH         533126.0           IN   \n",
       "49077             Top  ...       TAMIL NADU         600042.0           IN   \n",
       "49081   Western Dress  ...           KERALA         695541.0           IN   \n",
       "49082   Western Dress  ...  JAMMU & KASHMIR         194101.0           IN   \n",
       "49083   Western Dress  ...      MAHARASHTRA         411027.0           IN   \n",
       "...               ...  ...              ...              ...          ...   \n",
       "128872   Ethnic Dress  ...   ANDHRA PRADESH         524315.0           IN   \n",
       "128873            Set  ...   ANDHRA PRADESH         524315.0           IN   \n",
       "128874            Set  ...   ANDHRA PRADESH         524315.0           IN   \n",
       "128887            Top  ...    UTTAR PRADESH         201301.0           IN   \n",
       "128891  Western Dress  ...      WEST BENGAL         734014.0           IN   \n",
       "\n",
       "                                            promotion-ids    B2B  \\\n",
       "49051   Amazon PLCC Free-Financing Universal Merchant ...  False   \n",
       "49077   Amazon PLCC Free-Financing Universal Merchant ...  False   \n",
       "49081   Amazon PLCC Free-Financing Universal Merchant ...  False   \n",
       "49082   Amazon PLCC Free-Financing Universal Merchant ...  False   \n",
       "49083   Amazon PLCC Free-Financing Universal Merchant ...  False   \n",
       "...                                                   ...    ...   \n",
       "128872  Amazon PLCC Free-Financing Universal Merchant ...  False   \n",
       "128873  Amazon PLCC Free-Financing Universal Merchant ...  False   \n",
       "128874  Amazon PLCC Free-Financing Universal Merchant ...  False   \n",
       "128887  Amazon PLCC Free-Financing Universal Merchant ...  False   \n",
       "128891  Amazon PLCC Free-Financing Universal Merchant ...  False   \n",
       "\n",
       "        fulfilled-by Unnamed: 22 SKU_Cleaned  shippment Status  \\\n",
       "49051      Easy Ship       False    J0385-KR          Shipped    \n",
       "49077      Easy Ship       False  JNE3654-TP          Shipped    \n",
       "49081      Easy Ship       False  JNE3798-KR          Shipped    \n",
       "49082      Easy Ship       False    J0152-DR          Shipped    \n",
       "49083      Easy Ship       False    J0157-DR          Shipped    \n",
       "...              ...         ...         ...               ...   \n",
       "128872     Easy Ship       False    J0243-DR          Shipped    \n",
       "128873     Easy Ship       False    J0079-KD          Shipped    \n",
       "128874     Easy Ship       False    J0009-KD          Shipped    \n",
       "128887     Easy Ship       False    J0301-TP          Shipped    \n",
       "128891     Easy Ship       False  JNE3869-DR          Shipped    \n",
       "\n",
       "            Delivery status  \n",
       "49051    Delivered to Buyer  \n",
       "49077    Delivered to Buyer  \n",
       "49081    Delivered to Buyer  \n",
       "49082    Delivered to Buyer  \n",
       "49083    Delivered to Buyer  \n",
       "...                     ...  \n",
       "128872   Delivered to Buyer  \n",
       "128873   Delivered to Buyer  \n",
       "128874   Delivered to Buyer  \n",
       "128887   Delivered to Buyer  \n",
       "128891   Delivered to Buyer  \n",
       "\n",
       "[19379 rows x 27 columns]"
      ]
     },
     "execution_count": 66,
     "metadata": {},
     "output_type": "execute_result"
    }
   ],
   "source": [
    "#split the variable into multiple variables/columns\n",
    "cleaned_df[['shippment Status', 'Delivery status']] = cleaned_df['Status'].str.split('-',n=1, expand=True)\n",
    "cleaned_df"
   ]
  },
  {
   "cell_type": "code",
   "execution_count": 67,
   "metadata": {
    "id": "yhrnUGY_Nk8B"
   },
   "outputs": [],
   "source": [
    "#Validate the cleaning was successful"
   ]
  },
  {
   "cell_type": "code",
   "execution_count": 68,
   "metadata": {},
   "outputs": [
    {
     "name": "stdout",
     "output_type": "stream",
     "text": [
      "'shippment Status' Column does not exist in the dataset.\n",
      " &' Delivery status' Column  does not exist in the dataset.\n"
     ]
    }
   ],
   "source": [
    "#test  if columns  exists in dataset\n",
    "\n",
    "if 'shippment Status' in df.columns:\n",
    "    print(f\" 'shippment Status' Column exists in the dataset.\")\n",
    "else:\n",
    "    print(f\"'shippment Status' Column does not exist in the dataset.\")\n",
    "\n",
    "\n",
    "\n",
    "if 'Delivery status' in df.columns:\n",
    "    print(f\" &'Delivery status' Column exists in the dataset.\")\n",
    "else:\n",
    "    print(f\" &' Delivery status' Column  does not exist in the dataset.\")\n"
   ]
  },
  {
   "cell_type": "markdown",
   "metadata": {},
   "source": [
    "**Justification:** By splitting the Status column into shippment Status and Delivery status, each column now represents a single variable. This separation makes it easier to understand and analyze each aspect independently."
   ]
  },
  {
   "cell_type": "markdown",
   "metadata": {
    "id": "o51Bt8kwyTzk"
   },
   "source": [
    "### **Tidiness Issue 2: Multiple variables stored in one column(SKU Code)**"
   ]
  },
  {
   "cell_type": "code",
   "execution_count": 69,
   "metadata": {
    "id": "7zW8O5yx4Y9O"
   },
   "outputs": [],
   "source": [
    "#Apply the cleaning strategy"
   ]
  },
  {
   "cell_type": "code",
   "execution_count": 70,
   "metadata": {
    "scrolled": true
   },
   "outputs": [
    {
     "name": "stderr",
     "output_type": "stream",
     "text": [
      "C:\\Users\\user\\AppData\\Local\\Temp\\ipykernel_10552\\601687685.py:30: SettingWithCopyWarning: \n",
      "A value is trying to be set on a copy of a slice from a DataFrame.\n",
      "Try using .loc[row_indexer,col_indexer] = value instead\n",
      "\n",
      "See the caveats in the documentation: https://pandas.pydata.org/pandas-docs/stable/user_guide/indexing.html#returning-a-view-versus-a-copy\n",
      "  cleaned_df2['SKU_Cleaned'] = cleaned_df2['SKU Code'].apply(remove_size_indicators)\n"
     ]
    }
   ],
   "source": [
    "import re\n",
    "\n",
    "def remove_size_indicators(sku_string):\n",
    "    \"\"\"\n",
    "    Remove size indicators from the SKU string, retaining other parts.\n",
    "    Size indicators are: 'XS', 'S', 'M', 'L', 'XL', 'XXL', 'XXXL', 'XXS','XXXS','FREE'.\n",
    "    \n",
    "    Args:\n",
    "    sku_string (str): The SKU string.\n",
    "    \n",
    "    Returns:\n",
    "    str: The SKU string with size indicators removed.\n",
    "    \"\"\"\n",
    "    # List of size indicators to remove\n",
    "    size_indicators = ['XS', 'S', 'M', 'L', 'XL', 'XXL', 'XXXL', 'XXS','XXXS','FREE']\n",
    "    \n",
    "    # Create a regular expression pattern to match size indicators\n",
    "    size_pattern = '|'.join(size_indicators)\n",
    "    \n",
    "    # Use regex to replace size indicators with an empty string\n",
    "    cleaned_sku = re.sub(size_pattern, '', sku_string, flags=re.IGNORECASE)\n",
    "    \n",
    "    # Remove extra dashes or spaces that may be left after removal\n",
    "    cleaned_sku = re.sub(r'-+', '-', cleaned_sku).strip('-')\n",
    "    \n",
    "    return cleaned_sku\n",
    "\n",
    "\n",
    "# Apply the function to the \"SKU\" column and create a new column \"SKU_Cleaned\"\n",
    "cleaned_df2['SKU_Cleaned'] = cleaned_df2['SKU Code'].apply(remove_size_indicators)"
   ]
  },
  {
   "cell_type": "code",
   "execution_count": 71,
   "metadata": {},
   "outputs": [
    {
     "data": {
      "text/html": [
       "<div>\n",
       "<style scoped>\n",
       "    .dataframe tbody tr th:only-of-type {\n",
       "        vertical-align: middle;\n",
       "    }\n",
       "\n",
       "    .dataframe tbody tr th {\n",
       "        vertical-align: top;\n",
       "    }\n",
       "\n",
       "    .dataframe thead th {\n",
       "        text-align: right;\n",
       "    }\n",
       "</style>\n",
       "<table border=\"1\" class=\"dataframe\">\n",
       "  <thead>\n",
       "    <tr style=\"text-align: right;\">\n",
       "      <th></th>\n",
       "      <th>index</th>\n",
       "      <th>SKU Code</th>\n",
       "      <th>Design No.</th>\n",
       "      <th>Stock</th>\n",
       "      <th>Category</th>\n",
       "      <th>Size</th>\n",
       "      <th>Color</th>\n",
       "      <th>SKU_Cleaned</th>\n",
       "    </tr>\n",
       "  </thead>\n",
       "  <tbody>\n",
       "    <tr>\n",
       "      <th>0</th>\n",
       "      <td>0</td>\n",
       "      <td>AN201-RED-L</td>\n",
       "      <td>AN201</td>\n",
       "      <td>5.0</td>\n",
       "      <td>AN : LEGGINGS</td>\n",
       "      <td>L</td>\n",
       "      <td>Red</td>\n",
       "      <td>AN201-RED</td>\n",
       "    </tr>\n",
       "    <tr>\n",
       "      <th>1</th>\n",
       "      <td>1</td>\n",
       "      <td>AN201-RED-M</td>\n",
       "      <td>AN201</td>\n",
       "      <td>5.0</td>\n",
       "      <td>AN : LEGGINGS</td>\n",
       "      <td>M</td>\n",
       "      <td>Red</td>\n",
       "      <td>AN201-RED</td>\n",
       "    </tr>\n",
       "    <tr>\n",
       "      <th>2</th>\n",
       "      <td>2</td>\n",
       "      <td>AN201-RED-S</td>\n",
       "      <td>AN201</td>\n",
       "      <td>3.0</td>\n",
       "      <td>AN : LEGGINGS</td>\n",
       "      <td>S</td>\n",
       "      <td>Red</td>\n",
       "      <td>AN201-RED</td>\n",
       "    </tr>\n",
       "    <tr>\n",
       "      <th>3</th>\n",
       "      <td>3</td>\n",
       "      <td>AN201-RED-XL</td>\n",
       "      <td>AN201</td>\n",
       "      <td>6.0</td>\n",
       "      <td>AN : LEGGINGS</td>\n",
       "      <td>XL</td>\n",
       "      <td>Red</td>\n",
       "      <td>AN201-RED</td>\n",
       "    </tr>\n",
       "    <tr>\n",
       "      <th>4</th>\n",
       "      <td>4</td>\n",
       "      <td>AN201-RED-XXL</td>\n",
       "      <td>AN201</td>\n",
       "      <td>3.0</td>\n",
       "      <td>AN : LEGGINGS</td>\n",
       "      <td>XXL</td>\n",
       "      <td>Red</td>\n",
       "      <td>AN201-RED</td>\n",
       "    </tr>\n",
       "    <tr>\n",
       "      <th>...</th>\n",
       "      <td>...</td>\n",
       "      <td>...</td>\n",
       "      <td>...</td>\n",
       "      <td>...</td>\n",
       "      <td>...</td>\n",
       "      <td>...</td>\n",
       "      <td>...</td>\n",
       "      <td>...</td>\n",
       "    </tr>\n",
       "    <tr>\n",
       "      <th>9190</th>\n",
       "      <td>9190</td>\n",
       "      <td>SET444-KR-SH-XS</td>\n",
       "      <td>SET444</td>\n",
       "      <td>17.0</td>\n",
       "      <td>SET</td>\n",
       "      <td>XS</td>\n",
       "      <td>Peach</td>\n",
       "      <td>ET444-KR-H</td>\n",
       "    </tr>\n",
       "    <tr>\n",
       "      <th>9191</th>\n",
       "      <td>9191</td>\n",
       "      <td>SET444-KR-SH-XXL</td>\n",
       "      <td>SET444</td>\n",
       "      <td>12.0</td>\n",
       "      <td>SET</td>\n",
       "      <td>XXL</td>\n",
       "      <td>Peach</td>\n",
       "      <td>ET444-KR-H</td>\n",
       "    </tr>\n",
       "    <tr>\n",
       "      <th>9192</th>\n",
       "      <td>9192</td>\n",
       "      <td>SET444-KR-SH-XXXL</td>\n",
       "      <td>SET444</td>\n",
       "      <td>17.0</td>\n",
       "      <td>SET</td>\n",
       "      <td>XXXL</td>\n",
       "      <td>Peach</td>\n",
       "      <td>ET444-KR-H</td>\n",
       "    </tr>\n",
       "    <tr>\n",
       "      <th>9200</th>\n",
       "      <td>9200</td>\n",
       "      <td>SET446-KR-NP-L</td>\n",
       "      <td>SET446</td>\n",
       "      <td>17.0</td>\n",
       "      <td>SET</td>\n",
       "      <td>L</td>\n",
       "      <td>Teal</td>\n",
       "      <td>ET446-KR-NP</td>\n",
       "    </tr>\n",
       "    <tr>\n",
       "      <th>9232</th>\n",
       "      <td>9232</td>\n",
       "      <td>SET462-KR-NP-XS</td>\n",
       "      <td>SET462</td>\n",
       "      <td>20.0</td>\n",
       "      <td>SET</td>\n",
       "      <td>XS</td>\n",
       "      <td>Teal</td>\n",
       "      <td>ET462-KR-NP</td>\n",
       "    </tr>\n",
       "  </tbody>\n",
       "</table>\n",
       "<p>4751 rows × 8 columns</p>\n",
       "</div>"
      ],
      "text/plain": [
       "      index           SKU Code Design No.  Stock       Category  Size  Color  \\\n",
       "0         0        AN201-RED-L      AN201    5.0  AN : LEGGINGS     L    Red   \n",
       "1         1        AN201-RED-M      AN201    5.0  AN : LEGGINGS     M    Red   \n",
       "2         2        AN201-RED-S      AN201    3.0  AN : LEGGINGS     S    Red   \n",
       "3         3       AN201-RED-XL      AN201    6.0  AN : LEGGINGS    XL    Red   \n",
       "4         4      AN201-RED-XXL      AN201    3.0  AN : LEGGINGS   XXL    Red   \n",
       "...     ...                ...        ...    ...            ...   ...    ...   \n",
       "9190   9190    SET444-KR-SH-XS     SET444   17.0            SET    XS  Peach   \n",
       "9191   9191   SET444-KR-SH-XXL     SET444   12.0            SET   XXL  Peach   \n",
       "9192   9192  SET444-KR-SH-XXXL     SET444   17.0            SET  XXXL  Peach   \n",
       "9200   9200     SET446-KR-NP-L     SET446   17.0            SET     L   Teal   \n",
       "9232   9232    SET462-KR-NP-XS     SET462   20.0            SET    XS   Teal   \n",
       "\n",
       "      SKU_Cleaned  \n",
       "0       AN201-RED  \n",
       "1       AN201-RED  \n",
       "2       AN201-RED  \n",
       "3       AN201-RED  \n",
       "4       AN201-RED  \n",
       "...           ...  \n",
       "9190   ET444-KR-H  \n",
       "9191   ET444-KR-H  \n",
       "9192   ET444-KR-H  \n",
       "9200  ET446-KR-NP  \n",
       "9232  ET462-KR-NP  \n",
       "\n",
       "[4751 rows x 8 columns]"
      ]
     },
     "execution_count": 71,
     "metadata": {},
     "output_type": "execute_result"
    }
   ],
   "source": [
    "cleaned_df2"
   ]
  },
  {
   "cell_type": "code",
   "execution_count": 72,
   "metadata": {
    "id": "q6I_Sr7lxXi5"
   },
   "outputs": [],
   "source": [
    "#Validate the cleaning was successful"
   ]
  },
  {
   "cell_type": "code",
   "execution_count": 73,
   "metadata": {},
   "outputs": [
    {
     "name": "stdout",
     "output_type": "stream",
     "text": [
      "               SKU Code  SKU_Cleaned\n",
      "0           AN201-RED-L    AN201-RED\n",
      "1           AN201-RED-M    AN201-RED\n",
      "2           AN201-RED-S    AN201-RED\n",
      "3          AN201-RED-XL    AN201-RED\n",
      "4         AN201-RED-XXL    AN201-RED\n",
      "...                 ...          ...\n",
      "9190    SET444-KR-SH-XS   ET444-KR-H\n",
      "9191   SET444-KR-SH-XXL   ET444-KR-H\n",
      "9192  SET444-KR-SH-XXXL   ET444-KR-H\n",
      "9200     SET446-KR-NP-L  ET446-KR-NP\n",
      "9232    SET462-KR-NP-XS  ET462-KR-NP\n",
      "\n",
      "[4751 rows x 2 columns]\n"
     ]
    }
   ],
   "source": [
    "print(cleaned_df2[['SKU Code', 'SKU_Cleaned']])"
   ]
  },
  {
   "cell_type": "markdown",
   "metadata": {},
   "source": [
    "**Justification:**  removing size indicators from SKU codes, create cleaner, consistent SKUs for better analysis."
   ]
  },
  {
   "cell_type": "markdown",
   "metadata": {},
   "source": [
    "### **Remove unnecessary variables and combine datasets**\n",
    "\n",
    "Depending on the datasets, you can also peform the combination before the cleaning steps."
   ]
  },
  {
   "cell_type": "code",
   "execution_count": 74,
   "metadata": {},
   "outputs": [],
   "source": [
    "# Remove unnecessary variables and combine datasets"
   ]
  },
  {
   "cell_type": "markdown",
   "metadata": {},
   "source": [
    "*Remove unnecessary variables from amazon sale report dataset:*"
   ]
  },
  {
   "cell_type": "code",
   "execution_count": 75,
   "metadata": {},
   "outputs": [
    {
     "name": "stderr",
     "output_type": "stream",
     "text": [
      "C:\\Users\\user\\AppData\\Local\\Temp\\ipykernel_10552\\979247907.py:1: SettingWithCopyWarning: \n",
      "A value is trying to be set on a copy of a slice from a DataFrame\n",
      "\n",
      "See the caveats in the documentation: https://pandas.pydata.org/pandas-docs/stable/user_guide/indexing.html#returning-a-view-versus-a-copy\n",
      "  cleaned_df.drop('Date', axis=1,  inplace=True)\n",
      "C:\\Users\\user\\AppData\\Local\\Temp\\ipykernel_10552\\979247907.py:2: SettingWithCopyWarning: \n",
      "A value is trying to be set on a copy of a slice from a DataFrame\n",
      "\n",
      "See the caveats in the documentation: https://pandas.pydata.org/pandas-docs/stable/user_guide/indexing.html#returning-a-view-versus-a-copy\n",
      "  cleaned_df.drop('SKU', axis=1,  inplace=True)\n",
      "C:\\Users\\user\\AppData\\Local\\Temp\\ipykernel_10552\\979247907.py:3: SettingWithCopyWarning: \n",
      "A value is trying to be set on a copy of a slice from a DataFrame\n",
      "\n",
      "See the caveats in the documentation: https://pandas.pydata.org/pandas-docs/stable/user_guide/indexing.html#returning-a-view-versus-a-copy\n",
      "  cleaned_df.drop('index', axis=1, inplace=True)\n",
      "C:\\Users\\user\\AppData\\Local\\Temp\\ipykernel_10552\\979247907.py:4: SettingWithCopyWarning: \n",
      "A value is trying to be set on a copy of a slice from a DataFrame\n",
      "\n",
      "See the caveats in the documentation: https://pandas.pydata.org/pandas-docs/stable/user_guide/indexing.html#returning-a-view-versus-a-copy\n",
      "  cleaned_df.drop('Status', axis=1, inplace=True)\n",
      "C:\\Users\\user\\AppData\\Local\\Temp\\ipykernel_10552\\979247907.py:5: SettingWithCopyWarning: \n",
      "A value is trying to be set on a copy of a slice from a DataFrame\n",
      "\n",
      "See the caveats in the documentation: https://pandas.pydata.org/pandas-docs/stable/user_guide/indexing.html#returning-a-view-versus-a-copy\n",
      "  cleaned_df.drop('Unnamed: 22', axis=1 ,inplace=True)\n"
     ]
    }
   ],
   "source": [
    "cleaned_df.drop('Date', axis=1,  inplace=True)\n",
    "cleaned_df.drop('SKU', axis=1,  inplace=True)\n",
    "cleaned_df.drop('index', axis=1, inplace=True)\n",
    "cleaned_df.drop('Status', axis=1, inplace=True)\n",
    "cleaned_df.drop('Unnamed: 22', axis=1 ,inplace=True)\n"
   ]
  },
  {
   "cell_type": "code",
   "execution_count": 76,
   "metadata": {
    "scrolled": true
   },
   "outputs": [
    {
     "data": {
      "text/html": [
       "<div>\n",
       "<style scoped>\n",
       "    .dataframe tbody tr th:only-of-type {\n",
       "        vertical-align: middle;\n",
       "    }\n",
       "\n",
       "    .dataframe tbody tr th {\n",
       "        vertical-align: top;\n",
       "    }\n",
       "\n",
       "    .dataframe thead th {\n",
       "        text-align: right;\n",
       "    }\n",
       "</style>\n",
       "<table border=\"1\" class=\"dataframe\">\n",
       "  <thead>\n",
       "    <tr style=\"text-align: right;\">\n",
       "      <th></th>\n",
       "      <th>index</th>\n",
       "      <th>SKU Code</th>\n",
       "      <th>Design No.</th>\n",
       "      <th>Stock</th>\n",
       "      <th>Category</th>\n",
       "      <th>Size</th>\n",
       "      <th>Color</th>\n",
       "      <th>SKU_Cleaned</th>\n",
       "    </tr>\n",
       "  </thead>\n",
       "  <tbody>\n",
       "    <tr>\n",
       "      <th>0</th>\n",
       "      <td>0</td>\n",
       "      <td>AN201-RED-L</td>\n",
       "      <td>AN201</td>\n",
       "      <td>5.0</td>\n",
       "      <td>AN : LEGGINGS</td>\n",
       "      <td>L</td>\n",
       "      <td>Red</td>\n",
       "      <td>AN201-RED</td>\n",
       "    </tr>\n",
       "    <tr>\n",
       "      <th>1</th>\n",
       "      <td>1</td>\n",
       "      <td>AN201-RED-M</td>\n",
       "      <td>AN201</td>\n",
       "      <td>5.0</td>\n",
       "      <td>AN : LEGGINGS</td>\n",
       "      <td>M</td>\n",
       "      <td>Red</td>\n",
       "      <td>AN201-RED</td>\n",
       "    </tr>\n",
       "    <tr>\n",
       "      <th>2</th>\n",
       "      <td>2</td>\n",
       "      <td>AN201-RED-S</td>\n",
       "      <td>AN201</td>\n",
       "      <td>3.0</td>\n",
       "      <td>AN : LEGGINGS</td>\n",
       "      <td>S</td>\n",
       "      <td>Red</td>\n",
       "      <td>AN201-RED</td>\n",
       "    </tr>\n",
       "    <tr>\n",
       "      <th>3</th>\n",
       "      <td>3</td>\n",
       "      <td>AN201-RED-XL</td>\n",
       "      <td>AN201</td>\n",
       "      <td>6.0</td>\n",
       "      <td>AN : LEGGINGS</td>\n",
       "      <td>XL</td>\n",
       "      <td>Red</td>\n",
       "      <td>AN201-RED</td>\n",
       "    </tr>\n",
       "    <tr>\n",
       "      <th>4</th>\n",
       "      <td>4</td>\n",
       "      <td>AN201-RED-XXL</td>\n",
       "      <td>AN201</td>\n",
       "      <td>3.0</td>\n",
       "      <td>AN : LEGGINGS</td>\n",
       "      <td>XXL</td>\n",
       "      <td>Red</td>\n",
       "      <td>AN201-RED</td>\n",
       "    </tr>\n",
       "    <tr>\n",
       "      <th>...</th>\n",
       "      <td>...</td>\n",
       "      <td>...</td>\n",
       "      <td>...</td>\n",
       "      <td>...</td>\n",
       "      <td>...</td>\n",
       "      <td>...</td>\n",
       "      <td>...</td>\n",
       "      <td>...</td>\n",
       "    </tr>\n",
       "    <tr>\n",
       "      <th>9190</th>\n",
       "      <td>9190</td>\n",
       "      <td>SET444-KR-SH-XS</td>\n",
       "      <td>SET444</td>\n",
       "      <td>17.0</td>\n",
       "      <td>SET</td>\n",
       "      <td>XS</td>\n",
       "      <td>Peach</td>\n",
       "      <td>ET444-KR-H</td>\n",
       "    </tr>\n",
       "    <tr>\n",
       "      <th>9191</th>\n",
       "      <td>9191</td>\n",
       "      <td>SET444-KR-SH-XXL</td>\n",
       "      <td>SET444</td>\n",
       "      <td>12.0</td>\n",
       "      <td>SET</td>\n",
       "      <td>XXL</td>\n",
       "      <td>Peach</td>\n",
       "      <td>ET444-KR-H</td>\n",
       "    </tr>\n",
       "    <tr>\n",
       "      <th>9192</th>\n",
       "      <td>9192</td>\n",
       "      <td>SET444-KR-SH-XXXL</td>\n",
       "      <td>SET444</td>\n",
       "      <td>17.0</td>\n",
       "      <td>SET</td>\n",
       "      <td>XXXL</td>\n",
       "      <td>Peach</td>\n",
       "      <td>ET444-KR-H</td>\n",
       "    </tr>\n",
       "    <tr>\n",
       "      <th>9200</th>\n",
       "      <td>9200</td>\n",
       "      <td>SET446-KR-NP-L</td>\n",
       "      <td>SET446</td>\n",
       "      <td>17.0</td>\n",
       "      <td>SET</td>\n",
       "      <td>L</td>\n",
       "      <td>Teal</td>\n",
       "      <td>ET446-KR-NP</td>\n",
       "    </tr>\n",
       "    <tr>\n",
       "      <th>9232</th>\n",
       "      <td>9232</td>\n",
       "      <td>SET462-KR-NP-XS</td>\n",
       "      <td>SET462</td>\n",
       "      <td>20.0</td>\n",
       "      <td>SET</td>\n",
       "      <td>XS</td>\n",
       "      <td>Teal</td>\n",
       "      <td>ET462-KR-NP</td>\n",
       "    </tr>\n",
       "  </tbody>\n",
       "</table>\n",
       "<p>4751 rows × 8 columns</p>\n",
       "</div>"
      ],
      "text/plain": [
       "      index           SKU Code Design No.  Stock       Category  Size  Color  \\\n",
       "0         0        AN201-RED-L      AN201    5.0  AN : LEGGINGS     L    Red   \n",
       "1         1        AN201-RED-M      AN201    5.0  AN : LEGGINGS     M    Red   \n",
       "2         2        AN201-RED-S      AN201    3.0  AN : LEGGINGS     S    Red   \n",
       "3         3       AN201-RED-XL      AN201    6.0  AN : LEGGINGS    XL    Red   \n",
       "4         4      AN201-RED-XXL      AN201    3.0  AN : LEGGINGS   XXL    Red   \n",
       "...     ...                ...        ...    ...            ...   ...    ...   \n",
       "9190   9190    SET444-KR-SH-XS     SET444   17.0            SET    XS  Peach   \n",
       "9191   9191   SET444-KR-SH-XXL     SET444   12.0            SET   XXL  Peach   \n",
       "9192   9192  SET444-KR-SH-XXXL     SET444   17.0            SET  XXXL  Peach   \n",
       "9200   9200     SET446-KR-NP-L     SET446   17.0            SET     L   Teal   \n",
       "9232   9232    SET462-KR-NP-XS     SET462   20.0            SET    XS   Teal   \n",
       "\n",
       "      SKU_Cleaned  \n",
       "0       AN201-RED  \n",
       "1       AN201-RED  \n",
       "2       AN201-RED  \n",
       "3       AN201-RED  \n",
       "4       AN201-RED  \n",
       "...           ...  \n",
       "9190   ET444-KR-H  \n",
       "9191   ET444-KR-H  \n",
       "9192   ET444-KR-H  \n",
       "9200  ET446-KR-NP  \n",
       "9232  ET462-KR-NP  \n",
       "\n",
       "[4751 rows x 8 columns]"
      ]
     },
     "execution_count": 76,
     "metadata": {},
     "output_type": "execute_result"
    }
   ],
   "source": [
    "cleaned_df2"
   ]
  },
  {
   "cell_type": "markdown",
   "metadata": {},
   "source": [
    "*Remove unnecessary variables from sale report dataset:*"
   ]
  },
  {
   "cell_type": "code",
   "execution_count": 77,
   "metadata": {
    "scrolled": true
   },
   "outputs": [
    {
     "name": "stderr",
     "output_type": "stream",
     "text": [
      "C:\\Users\\user\\AppData\\Local\\Temp\\ipykernel_10552\\2200201250.py:1: SettingWithCopyWarning: \n",
      "A value is trying to be set on a copy of a slice from a DataFrame\n",
      "\n",
      "See the caveats in the documentation: https://pandas.pydata.org/pandas-docs/stable/user_guide/indexing.html#returning-a-view-versus-a-copy\n",
      "  cleaned_df2.drop('SKU Code', axis=1, inplace=True)\n",
      "C:\\Users\\user\\AppData\\Local\\Temp\\ipykernel_10552\\2200201250.py:2: SettingWithCopyWarning: \n",
      "A value is trying to be set on a copy of a slice from a DataFrame\n",
      "\n",
      "See the caveats in the documentation: https://pandas.pydata.org/pandas-docs/stable/user_guide/indexing.html#returning-a-view-versus-a-copy\n",
      "  cleaned_df2.drop('Size', axis=1, inplace=True)\n"
     ]
    }
   ],
   "source": [
    "cleaned_df2.drop('SKU Code', axis=1, inplace=True)\n",
    "cleaned_df2.drop('Size', axis=1, inplace=True)"
   ]
  },
  {
   "cell_type": "markdown",
   "metadata": {},
   "source": [
    "*merge the datasets:*"
   ]
  },
  {
   "cell_type": "code",
   "execution_count": 78,
   "metadata": {},
   "outputs": [],
   "source": [
    "merged_df = pd.merge(cleaned_df,cleaned_df2, on='SKU_Cleaned')"
   ]
  },
  {
   "cell_type": "code",
   "execution_count": 79,
   "metadata": {
    "scrolled": true
   },
   "outputs": [
    {
     "name": "stdout",
     "output_type": "stream",
     "text": [
      "<class 'pandas.core.frame.DataFrame'>\n",
      "RangeIndex: 72811 entries, 0 to 72810\n",
      "Data columns (total 27 columns):\n",
      " #   Column              Non-Null Count  Dtype  \n",
      "---  ------              --------------  -----  \n",
      " 0   Order ID            72811 non-null  object \n",
      " 1   Fulfilment          72811 non-null  object \n",
      " 2   Sales Channel       72811 non-null  object \n",
      " 3   ship-service-level  72811 non-null  object \n",
      " 4   Style               72811 non-null  object \n",
      " 5   Category_x          72811 non-null  object \n",
      " 6   Size                72811 non-null  object \n",
      " 7   ASIN                72811 non-null  object \n",
      " 8   Courier Status      72811 non-null  object \n",
      " 9   Qty                 72811 non-null  int64  \n",
      " 10  currency            72811 non-null  object \n",
      " 11  Amount              72811 non-null  float64\n",
      " 12  ship-city           72811 non-null  object \n",
      " 13  ship-state          72811 non-null  object \n",
      " 14  ship-postal-code    72811 non-null  float64\n",
      " 15  ship-country        72811 non-null  object \n",
      " 16  promotion-ids       72811 non-null  object \n",
      " 17  B2B                 72811 non-null  bool   \n",
      " 18  fulfilled-by        72811 non-null  object \n",
      " 19  SKU_Cleaned         72811 non-null  object \n",
      " 20  shippment Status    72811 non-null  object \n",
      " 21  Delivery status     71899 non-null  object \n",
      " 22  index               72811 non-null  int64  \n",
      " 23  Design No.          72811 non-null  object \n",
      " 24  Stock               72811 non-null  float64\n",
      " 25  Category_y          72811 non-null  object \n",
      " 26  Color               72811 non-null  object \n",
      "dtypes: bool(1), float64(3), int64(2), object(21)\n",
      "memory usage: 14.5+ MB\n"
     ]
    }
   ],
   "source": [
    "merged_df.info()"
   ]
  },
  {
   "cell_type": "code",
   "execution_count": 80,
   "metadata": {},
   "outputs": [],
   "source": [
    "# Create a new index column\n",
    "merged_df['Index'] = range(len(merged_df))\n",
    "\n",
    "# Set 'Index' as the index\n",
    "merged_df = merged_df.set_index('Index')"
   ]
  },
  {
   "cell_type": "markdown",
   "metadata": {
    "id": "F42urHuzttjF"
   },
   "source": [
    "## 4. Update your data store\n",
    "Update your local database/data store with the cleaned data, following best practices for storing your cleaned data:\n",
    "\n",
    "- Must maintain different instances / versions of data (raw and cleaned data)\n",
    "- Must name the dataset files informatively\n",
    "- Ensure both the raw and cleaned data is saved to your database/data store"
   ]
  },
  {
   "cell_type": "code",
   "execution_count": 81,
   "metadata": {
    "id": "V3uay7EJUV_L"
   },
   "outputs": [],
   "source": [
    "#saving data"
   ]
  },
  {
   "cell_type": "code",
   "execution_count": 82,
   "metadata": {},
   "outputs": [],
   "source": [
    "# Create directories for raw and cleaned data\n",
    "data_store_dir = \"data_store\"\n",
    "raw_data_dir = os.path.join(data_store_dir, \"raw\")\n",
    "cleaned_data_dir = os.path.join(data_store_dir, \"cleaned\")\n",
    "\n",
    "os.makedirs(data_store_dir, exist_ok=True)\n",
    "os.makedirs(raw_data_dir, exist_ok=True)\n",
    "os.makedirs(cleaned_data_dir, exist_ok=True)\n",
    "\n",
    "# Save the raw API-based dataset\n",
    "raw_api_dataset_file = os.path.join(raw_data_dir, \"AmazonSaleReport.pkl\")\n",
    "with open(raw_api_dataset_file, \"wb\") as f:\n",
    "    pickle.dump(cleaned_df, f)  \n",
    "\n",
    "# Save the raw CSV-based dataset\n",
    "raw_csv_dataset_file = os.path.join(raw_data_dir, \"Sale Report.csv\")\n",
    "cleaned_df2.to_csv(raw_csv_dataset_file, index=False)  \n",
    "\n",
    "# Save the cleaned datasets\n",
    "cleaned_api_dataset_file = os.path.join(cleaned_data_dir, \"AmazonSaleReport.pkl\")\n",
    "with open(cleaned_api_dataset_file, \"wb\") as f:\n",
    "    pickle.dump(cleaned_df, f)\n",
    "\n",
    "cleaned_csv_dataset_file = os.path.join(cleaned_data_dir, \"cleaned_Sale Report.csv\")\n",
    "cleaned_df2.to_csv(cleaned_csv_dataset_file, index=False)\n",
    "\n",
    "# Save the merged and cleaned dataset\n",
    "merged_df_file = os.path.join(cleaned_data_dir, \"cleaned_merged_dataset.csv\")\n",
    "merged_df.to_csv(merged_df_file, index=False)  \n"
   ]
  },
  {
   "cell_type": "markdown",
   "metadata": {
    "id": "cGy_yddGtzhM"
   },
   "source": [
    "<a id=research-question><a/>\n",
    "## 5. Research question"
   ]
  },
  {
   "cell_type": "markdown",
   "metadata": {},
   "source": [
    "<a id=q1><a/>\n",
    "#### **Research question 1 :** <u>How does the Quantity of the product (Qty), vary across different product sizes (Size) on Amazon?</u>"
   ]
  },
  {
   "cell_type": "code",
   "execution_count": 83,
   "metadata": {},
   "outputs": [
    {
     "data": {
      "image/png": "[encoded data removed]",
      "text/plain": [
       "<Figure size 600x400 with 1 Axes>"
      ]
     },
     "metadata": {},
     "output_type": "display_data"
    }
   ],
   "source": [
    "# Group by overall rating\n",
    "df_rating = merged_df.groupby('Size').agg({'Qty': 'sum'}).reset_index()\n",
    "\n",
    "# Create the bar chart\n",
    "plt.figure(figsize=(6, 4))\n",
    "sns.barplot(data=df_rating, x='Size', y='Qty')\n",
    "\n",
    "# Customize the plot\n",
    "plt.title('Quantity of the product (Qty) for different product sizes ')\n",
    "plt.xlabel('product sizes')\n",
    "plt.ylabel('Quantity of the product (Qty)')\n",
    "plt.show()\n"
   ]
  },
  {
   "cell_type": "markdown",
   "metadata": {},
   "source": [
    "This chart shows the quantity (demand) for different product sizes, ranging from 3XL to XXL, as well as some additional sizes like Free, L, M, and S. The key observations are:\n",
    "\n",
    "*(M ,XL and L) sizes*   have the highest demand, indicating they are the most popular product sizes.  \n",
    "*(4XL, 5XL, 6XL,Free )sizes*   have relatively lower demand compared to other sizes.  \n",
    "*(S,XS, XXL,XXL) sizes*   malso have substantial demand as well, showing there is a market for these product options.  "
   ]
  },
  {
   "cell_type": "markdown",
   "metadata": {},
   "source": [
    "<a id=q2><a/>\n",
    "#### **Research question 2 :** <u>How are the number of items in stock distributed across different delivery statuses, and what percentage of the total stock is associated with each status?</u>"
   ]
  },
  {
   "cell_type": "code",
   "execution_count": 84,
   "metadata": {
    "scrolled": true
   },
   "outputs": [
    {
     "data": {
      "image/png": "[encoded data removed]",
      "text/plain": [
       "<Figure size 600x600 with 1 Axes>"
      ]
     },
     "metadata": {},
     "output_type": "display_data"
    }
   ],
   "source": [
    "# Grouping and summing up the quantities by delivery status\n",
    "dff = merged_df.groupby('Delivery status')['Stock'].sum().reset_index()\n",
    "\n",
    "# Define a custom function to format the percentages\n",
    "def percentage_format(pct):\n",
    "    return f'{pct:.1f}%'\n",
    "\n",
    "# Create the pie chart\n",
    "plt.figure(figsize=(6, 6))\n",
    "plt.pie(\n",
    "    dff['Stock'], \n",
    "    labels=None, \n",
    "    autopct=percentage_format, \n",
    "    startangle=140, \n",
    "    rotatelabels=True,\n",
    "    textprops={'fontsize': 6, 'color': 'black'}  # Customize the percentage text\n",
    ")\n",
    "\n",
    "# Customize the plot\n",
    "plt.title('Product Stock Distribution by Delivery Status', y=1.08, fontsize=16, weight='bold')  # Title with custom font size and weight\n",
    "plt.axis('equal')  # Equal aspect ratio ensures that the pie is drawn as a circle.\n",
    "\n",
    "# Add legend\n",
    "plt.legend(dff['Delivery status'], loc='upper right', bbox_to_anchor=(1.2, 1), fontsize=12)\n",
    "\n",
    "# Adjust layout\n",
    "plt.tight_layout()  \n",
    "\n",
    "plt.show()\n"
   ]
  },
  {
   "cell_type": "markdown",
   "metadata": {},
   "source": [
    "<a id=q3><a/>\n",
    "#### **Research question 3 :** <u>Do B2B customers tend to make larger purchases than non-B2B customers?</u>"
   ]
  },
  {
   "cell_type": "code",
   "execution_count": 85,
   "metadata": {},
   "outputs": [
    {
     "data": {
      "text/plain": [
       "array([False,  True])"
      ]
     },
     "execution_count": 85,
     "metadata": {},
     "output_type": "execute_result"
    }
   ],
   "source": [
    "merged_df['B2B'].unique()"
   ]
  },
  {
   "cell_type": "code",
   "execution_count": 86,
   "metadata": {},
   "outputs": [
    {
     "data": {
      "image/png": "[encoded data removed]",
      "text/plain": [
       "<Figure size 800x600 with 1 Axes>"
      ]
     },
     "metadata": {},
     "output_type": "display_data"
    }
   ],
   "source": [
    "# Calculate average order amounts for B2B and non-B2B\n",
    "b2b_avg = merged_df[merged_df['B2B'] == True]['Amount'].mean()\n",
    "non_b2b_avg = merged_df[merged_df['B2B'] == False]['Amount'].mean()\n",
    "\n",
    "# Create bar chart\n",
    "plt.figure(figsize=(8, 6))\n",
    "plt.bar(['B2B', 'Non-B2B'], [b2b_avg, non_b2b_avg])\n",
    "\n",
    "plt.xlabel('B2B Status')\n",
    "plt.ylabel('Average Order Amount')\n",
    "plt.title('Average Order Amount by B2B Status')\n",
    "plt.show()"
   ]
  },
  {
   "cell_type": "markdown",
   "metadata": {},
   "source": [
    "The bar chart shows that the average order amount for B2B customers is higher than the average order amount for non-B2B customers. This suggests that B2B customers tend to make larger purchases on average."
   ]
  },
  {
   "cell_type": "markdown",
   "metadata": {},
   "source": [
    "<a id=conclusion><a/>\n",
    "# Conclusion\n",
    "The analysis of the Amazon sales data revealed several key insights that can inform strategic decision-making for optimizing inventory management, improving delivery efficiency, and tailoring marketing strategies.\n",
    "\n",
    ">Firstly, the analysis of product demand across different sizes revealed that sizes M, XL, and L consistently have the highest demand, indicating they are the most popular sizes among customers. This suggests that prioritizing inventory for these sizes could lead to increased sales and reduced stockouts.\n",
    "\n",
    ">Secondly, the study of stock distribution across delivery statuses showed that the majority of stock is associated with orders that have been delivered to buyers, indicating a strong fulfillment process and efficient delivery operations. This suggests that the current delivery system is performing well, but further analysis could identify potential areas for improvement, such as reducing delivery times or optimizing delivery routes.\n",
    "\n",
    ">Lastly, the comparison of purchase behavior between B2B and non-B2B customers revealed that B2B customers tend to make larger purchases on average compared to non-B2B customers. This finding suggests that B2B customers are a valuable segment with higher spending potential. Tailoring marketing strategies and pricing models to cater to their specific needs could lead to increased revenue and customer loyalty.\n",
    "\n",
    "These findings provide valuable information for optimizing inventory management, improving delivery efficiency, and tailoring marketing strategies to different customer segments. By leveraging these insights, businesses can enhance their operations and achieve greater success in the competitive e-commerce landscape."
   ]
  },
  {
   "cell_type": "markdown",
   "metadata": {
    "id": "0ezWXXZVj-TP"
   },
   "source": [
    "<a id=Reflection><a/>\n",
    "###  Reflection\n",
    "With more time, I would delve deeper into exploring the reasons behind the observed differences in average order amounts between B2B and non-B2B customers. This could involve analyzing product categories, pricing strategies, and order frequency to understand the underlying factors driving this trend. Additionally, I would investigate the distribution of stock across different delivery statuses in more detail, examining the time taken for each status and identifying potential bottlenecks in the delivery process. This would allow for a more comprehensive understanding of the factors influencing delivery performance and provide actionable insights for improving efficiency."
   ]
  },
  {
   "cell_type": "markdown",
   "metadata": {},
   "source": [
    ">>#### Creating .txt file"
   ]
  },
  {
   "cell_type": "code",
   "execution_count": 87,
   "metadata": {},
   "outputs": [],
   "source": [
    "#contain the sale report dataset link "
   ]
  },
  {
   "cell_type": "code",
   "execution_count": 88,
   "metadata": {},
   "outputs": [],
   "source": [
    "link = ['https://www.kaggle.com/datasets/thedevastator/unlock-profits-with-e-commerce-sales-data?select=Sale+Report.csv'\n",
    "]\n",
    "\n",
    "with open('link.txt', 'w') as file:\n",
    "    for link in link:  \n",
    "        file.write(link + '\\n')  \n"
   ]
  },
  {
   "cell_type": "markdown",
   "metadata": {},
   "source": [
    ">> #### Creating .zip folder"
   ]
  },
  {
   "cell_type": "code",
   "execution_count": 89,
   "metadata": {},
   "outputs": [
    {
     "name": "stdout",
     "output_type": "stream",
     "text": [
      "Files have been successfully zipped.\n"
     ]
    }
   ],
   "source": [
    "# Define the files and folder to be added to the zip file\n",
    "files_to_zip = [\n",
    "    'link.txt',\n",
    "    'Data_Wrangling_Project2.ipynb',\n",
    "    'data_store'\n",
    "]\n",
    "\n",
    "# Create a ZIP file\n",
    "with zipfile.ZipFile('Real_Data_Wrangling_project2.zip', 'w') as zipf:\n",
    "    for file in files_to_zip:\n",
    "        if os.path.isfile(file):  # Check if it's a file\n",
    "            zipf.write(file, arcname=os.path.basename(file))\n",
    "        elif os.path.isdir(file):  # Check if it's a directory\n",
    "            for foldername, subfolders, filenames in os.walk(file):\n",
    "                for filename in filenames:\n",
    "                    # Create a relative path for each file\n",
    "                    filepath = os.path.join(foldername, filename)\n",
    "                    # Add file to zip file with relative path\n",
    "                    zipf.write(filepath, arcname=os.path.relpath(filepath, start=file))\n",
    "\n",
    "print(\"Files have been successfully zipped.\")\n"
   ]
  }
 ],
 "metadata": {
  "colab": {
   "provenance": []
  },
  "kernelspec": {
   "display_name": "Python 3 (ipykernel)",
   "language": "python",
   "name": "python3"
  },
  "language_info": {
   "codemirror_mode": {
    "name": "ipython",
    "version": 3
   },
   "file_extension": ".py",
   "mimetype": "text/x-python",
   "name": "python",
   "nbconvert_exporter": "python",
   "pygments_lexer": "ipython3",
   "version": "3.11.7"
  }
 },
 "nbformat": 4,
 "nbformat_minor": 4
}
